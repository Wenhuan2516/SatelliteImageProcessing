{
 "cells": [
  {
   "cell_type": "code",
   "execution_count": 1,
   "id": "26f492cd-b654-4eca-a82b-32c387f14d93",
   "metadata": {},
   "outputs": [],
   "source": [
    "from PIL import Image"
   ]
  },
  {
   "cell_type": "code",
   "execution_count": 2,
   "id": "5d78439a-60e8-471f-ba3b-13b66d747d72",
   "metadata": {},
   "outputs": [],
   "source": [
    "pm_2016 = Image.open('PM2.5_Images/2016.tif')"
   ]
  },
  {
   "cell_type": "code",
   "execution_count": 3,
   "id": "9df6a9d9-decb-4dd8-9b9a-e62121beb96a",
   "metadata": {},
   "outputs": [],
   "source": [
    "pm_2016.show()"
   ]
  },
  {
   "cell_type": "code",
   "execution_count": 4,
   "id": "f3ac2af1-ddf5-4ccd-83ab-5ed2469bdc7a",
   "metadata": {},
   "outputs": [
    {
     "name": "stderr",
     "output_type": "stream",
     "text": [
      "display: unable to open X server `' @ error/display.c/DisplayImageCommand/431.\n"
     ]
    }
   ],
   "source": [
    "import matplotlib.pyplot as plt"
   ]
  },
  {
   "cell_type": "code",
   "execution_count": 5,
   "id": "2f339527-d40e-4b02-aec6-a54135475788",
   "metadata": {},
   "outputs": [],
   "source": [
    "image = plt.imread('PM2.5_Images/2016.tif')"
   ]
  },
  {
   "cell_type": "code",
   "execution_count": 6,
   "id": "40af4617-f9d6-4e55-9c38-c7042db35f0b",
   "metadata": {},
   "outputs": [
    {
     "data": {
      "text/plain": [
       "array([[[  0,   0,   0, 255],\n",
       "        [  0,   0,   0, 255],\n",
       "        [  0,   0,   0, 255],\n",
       "        ...,\n",
       "        [  0,   0,   0, 255],\n",
       "        [  0,   0,   0, 255],\n",
       "        [  0,   0,   0, 255]],\n",
       "\n",
       "       [[  0,   0,   0, 255],\n",
       "        [  0,   0,   0, 255],\n",
       "        [  0,   0,   0, 255],\n",
       "        ...,\n",
       "        [  0,   0,   0, 255],\n",
       "        [  0,   0,   0, 255],\n",
       "        [  0,   0,   0, 255]],\n",
       "\n",
       "       [[  0,   0,   0, 255],\n",
       "        [  0,   0,   0, 255],\n",
       "        [  0,   0,   0, 255],\n",
       "        ...,\n",
       "        [  0,   0,   0, 255],\n",
       "        [  0,   0,   0, 255],\n",
       "        [  0,   0,   0, 255]],\n",
       "\n",
       "       ...,\n",
       "\n",
       "       [[  0,   0,   0, 255],\n",
       "        [  0,   0,   0, 255],\n",
       "        [  0,   0,   0, 255],\n",
       "        ...,\n",
       "        [  0,   0,   0, 255],\n",
       "        [  0,   0,   0, 255],\n",
       "        [  0,   0,   0, 255]],\n",
       "\n",
       "       [[  0,   0,   0, 255],\n",
       "        [  0,   0,   0, 255],\n",
       "        [  0,   0,   0, 255],\n",
       "        ...,\n",
       "        [  0,   0,   0, 255],\n",
       "        [  0,   0,   0, 255],\n",
       "        [  0,   0,   0, 255]],\n",
       "\n",
       "       [[  0,   0,   0, 255],\n",
       "        [  0,   0,   0, 255],\n",
       "        [  0,   0,   0, 255],\n",
       "        ...,\n",
       "        [  0,   0,   0, 255],\n",
       "        [  0,   0,   0, 255],\n",
       "        [  0,   0,   0, 255]]], dtype=uint8)"
      ]
     },
     "execution_count": 6,
     "metadata": {},
     "output_type": "execute_result"
    }
   ],
   "source": [
    "image"
   ]
  },
  {
   "cell_type": "code",
   "execution_count": 7,
   "id": "37fb264a-dc87-4234-85d5-121fce1778cd",
   "metadata": {},
   "outputs": [
    {
     "data": {
      "text/plain": [
       "(2891, 4355, 4)"
      ]
     },
     "execution_count": 7,
     "metadata": {},
     "output_type": "execute_result"
    }
   ],
   "source": [
    "image.shape"
   ]
  },
  {
   "cell_type": "code",
   "execution_count": 8,
   "id": "a71157a9-7f87-4b4c-8a91-af8e3fbe268f",
   "metadata": {},
   "outputs": [
    {
     "data": {
      "text/plain": [
       "array([  0,   0,   0, 255], dtype=uint8)"
      ]
     },
     "execution_count": 8,
     "metadata": {},
     "output_type": "execute_result"
    }
   ],
   "source": [
    "image[0][0]"
   ]
  },
  {
   "cell_type": "code",
   "execution_count": 9,
   "id": "3713ae81-196a-49fc-81ae-3b83f31c53f3",
   "metadata": {},
   "outputs": [
    {
     "name": "stderr",
     "output_type": "stream",
     "text": [
      "ERROR 1: PROJ: proj_create_from_database: Open of /global/homes/w/wenhuan/.conda/envs/myenv/share/proj failed\n",
      "PROJ: proj_create_from_database: SQLite error on SELECT name, type, coordinate_system_auth_name, coordinate_system_code, datum_auth_name, datum_code, area_of_use_auth_name, area_of_use_code, text_definition, deprecated FROM geodetic_crs WHERE auth_name = ? AND code = ?: no such column: area_of_use_auth_name\n",
      "/global/homes/w/wenhuan/.conda/envs/myenv/lib/python3.7/site-packages/geopandas/_compat.py:115: UserWarning: The Shapely GEOS version (3.8.0-CAPI-1.13.1 ) is incompatible with the GEOS version PyGEOS was compiled with (3.10.1-CAPI-1.16.0). Conversions between both will be slow.\n",
      "  shapely_geos_version, geos_capi_version_string\n"
     ]
    }
   ],
   "source": [
    "import georasters as gr"
   ]
  },
  {
   "cell_type": "markdown",
   "id": "dd56e23e-9190-40d7-ae8a-93a65404b6c0",
   "metadata": {},
   "source": [
    "## check year 2016"
   ]
  },
  {
   "cell_type": "code",
   "execution_count": 10,
   "id": "088378aa-1016-48ae-8a3b-8e01add1f5f6",
   "metadata": {},
   "outputs": [],
   "source": [
    "pm_2016 = gr.from_file('PM2.5_Images/2016.tif')"
   ]
  },
  {
   "cell_type": "code",
   "execution_count": 11,
   "id": "ecaff662-74e5-4360-b161-53e1629b7789",
   "metadata": {},
   "outputs": [
    {
     "data": {
      "text/plain": [
       "<AxesSubplot:>"
      ]
     },
     "execution_count": 11,
     "metadata": {},
     "output_type": "execute_result"
    },
    {
     "data": {
      "image/png": "[encoded data removed]",
      "text/plain": [
       "<Figure size 432x288 with 1 Axes>"
      ]
     },
     "metadata": {
      "needs_background": "light"
     },
     "output_type": "display_data"
    }
   ],
   "source": [
    "pm_2016.plot()"
   ]
  },
  {
   "cell_type": "code",
   "execution_count": 12,
   "id": "6914575a-78a7-4027-971a-48f0b7915b99",
   "metadata": {},
   "outputs": [],
   "source": [
    "from osgeo import gdal\n",
    "rds = gdal.Open(\"PM2.5_Images/2016.tif\")"
   ]
  },
  {
   "cell_type": "code",
   "execution_count": 91,
   "id": "24530fb4-8e37-4306-ac1c-e3cc71eb9ca5",
   "metadata": {},
   "outputs": [],
   "source": [
    "ndv, xsize, ysize, geot, projection, datatype = gr.get_geo_info('PM2.5_Images/2016.tif')"
   ]
  },
  {
   "cell_type": "code",
   "execution_count": 95,
   "id": "ab6b8204-bb48-41c1-86cc-047fdf378704",
   "metadata": {},
   "outputs": [
    {
     "data": {
      "text/plain": [
       "(None,\n",
       " 4355,\n",
       " 2891,\n",
       " (0.0, 1.0, 0.0, 0.0, 0.0, 1.0),\n",
       " <osgeo.osr.SpatialReference; proxy of <Swig Object of type 'OSRSpatialReferenceShadow *' at 0x15551ae6ea80> >,\n",
       " 'Float32')"
      ]
     },
     "execution_count": 95,
     "metadata": {},
     "output_type": "execute_result"
    }
   ],
   "source": [
    "ndv, xsize, ysize, geot, projection, datatype"
   ]
  },
  {
   "cell_type": "code",
   "execution_count": 94,
   "id": "08248c13-489e-45fc-980b-63fef3569213",
   "metadata": {},
   "outputs": [
    {
     "data": {
      "text/plain": [
       "(0, 0)"
      ]
     },
     "execution_count": 94,
     "metadata": {},
     "output_type": "execute_result"
    }
   ],
   "source": [
    "row, col = gr.map_pixel(0,0,geot[1],geot[-1], geot[0],geot[3])\n",
    "row, col"
   ]
  },
  {
   "cell_type": "code",
   "execution_count": 13,
   "id": "c75d15e5-d77d-4051-b510-f127b6c850d7",
   "metadata": {},
   "outputs": [
    {
     "data": {
      "text/plain": [
       "'PM2.5_Images/2016.tif'"
      ]
     },
     "execution_count": 13,
     "metadata": {},
     "output_type": "execute_result"
    }
   ],
   "source": [
    "rds.GetDescription()"
   ]
  },
  {
   "cell_type": "code",
   "execution_count": 14,
   "id": "156b2359-64e8-49fa-a4b7-28ea53581c8e",
   "metadata": {},
   "outputs": [],
   "source": [
    "pm_2016 = pm_2016.to_pandas()"
   ]
  },
  {
   "cell_type": "code",
   "execution_count": 15,
   "id": "859f5245-0438-4548-a73f-d7cdfda21fb0",
   "metadata": {},
   "outputs": [
    {
     "data": {
      "text/html": [
       "<div>\n",
       "<style scoped>\n",
       "    .dataframe tbody tr th:only-of-type {\n",
       "        vertical-align: middle;\n",
       "    }\n",
       "\n",
       "    .dataframe tbody tr th {\n",
       "        vertical-align: top;\n",
       "    }\n",
       "\n",
       "    .dataframe thead th {\n",
       "        text-align: right;\n",
       "    }\n",
       "</style>\n",
       "<table border=\"1\" class=\"dataframe\">\n",
       "  <thead>\n",
       "    <tr style=\"text-align: right;\">\n",
       "      <th></th>\n",
       "      <th>row</th>\n",
       "      <th>col</th>\n",
       "      <th>value</th>\n",
       "      <th>x</th>\n",
       "      <th>y</th>\n",
       "    </tr>\n",
       "  </thead>\n",
       "  <tbody>\n",
       "    <tr>\n",
       "      <th>0</th>\n",
       "      <td>0</td>\n",
       "      <td>0</td>\n",
       "      <td>-3.400000e+38</td>\n",
       "      <td>0.0</td>\n",
       "      <td>0.0</td>\n",
       "    </tr>\n",
       "    <tr>\n",
       "      <th>1</th>\n",
       "      <td>0</td>\n",
       "      <td>1</td>\n",
       "      <td>-3.400000e+38</td>\n",
       "      <td>1.0</td>\n",
       "      <td>0.0</td>\n",
       "    </tr>\n",
       "    <tr>\n",
       "      <th>2</th>\n",
       "      <td>0</td>\n",
       "      <td>2</td>\n",
       "      <td>-3.400000e+38</td>\n",
       "      <td>2.0</td>\n",
       "      <td>0.0</td>\n",
       "    </tr>\n",
       "    <tr>\n",
       "      <th>3</th>\n",
       "      <td>0</td>\n",
       "      <td>3</td>\n",
       "      <td>-3.400000e+38</td>\n",
       "      <td>3.0</td>\n",
       "      <td>0.0</td>\n",
       "    </tr>\n",
       "    <tr>\n",
       "      <th>4</th>\n",
       "      <td>0</td>\n",
       "      <td>4</td>\n",
       "      <td>-3.400000e+38</td>\n",
       "      <td>4.0</td>\n",
       "      <td>0.0</td>\n",
       "    </tr>\n",
       "  </tbody>\n",
       "</table>\n",
       "</div>"
      ],
      "text/plain": [
       "   row  col         value    x    y\n",
       "0    0    0 -3.400000e+38  0.0  0.0\n",
       "1    0    1 -3.400000e+38  1.0  0.0\n",
       "2    0    2 -3.400000e+38  2.0  0.0\n",
       "3    0    3 -3.400000e+38  3.0  0.0\n",
       "4    0    4 -3.400000e+38  4.0  0.0"
      ]
     },
     "execution_count": 15,
     "metadata": {},
     "output_type": "execute_result"
    }
   ],
   "source": [
    "pm_2016.head()"
   ]
  },
  {
   "cell_type": "code",
   "execution_count": 16,
   "id": "b3a08673-2725-4d9a-8892-c73bfca81b28",
   "metadata": {},
   "outputs": [
    {
     "data": {
      "text/plain": [
       "array([-3.4000000e+38,  1.9042356e+00,  1.7644416e+00, ...,\n",
       "        7.0473566e+00,  6.8868265e+00,  6.9012785e+00], dtype=float32)"
      ]
     },
     "execution_count": 16,
     "metadata": {},
     "output_type": "execute_result"
    }
   ],
   "source": [
    "pm_2016['value'].unique()"
   ]
  },
  {
   "cell_type": "code",
   "execution_count": 17,
   "id": "0e1b53a4-06d3-4d62-8d78-9bb5118265f1",
   "metadata": {},
   "outputs": [
    {
     "data": {
      "text/plain": [
       "(12590305, 5)"
      ]
     },
     "execution_count": 17,
     "metadata": {},
     "output_type": "execute_result"
    }
   ],
   "source": [
    "pm_2016.shape"
   ]
  },
  {
   "cell_type": "code",
   "execution_count": 18,
   "id": "8f1a1517-ac8e-4045-b8ce-9f4218aafcc9",
   "metadata": {},
   "outputs": [
    {
     "data": {
      "text/plain": [
       "6112389"
      ]
     },
     "execution_count": 18,
     "metadata": {},
     "output_type": "execute_result"
    }
   ],
   "source": [
    "len(pm_2016['value'].unique().tolist())"
   ]
  },
  {
   "cell_type": "markdown",
   "id": "b8c6fada-5702-4762-88b4-f078135d49f0",
   "metadata": {},
   "source": [
    "## Check Year 2015"
   ]
  },
  {
   "cell_type": "code",
   "execution_count": 19,
   "id": "ba5b1250-b7aa-48d0-a2d0-ca30a91d018f",
   "metadata": {},
   "outputs": [],
   "source": [
    "from libtiff import TIFF\n",
    "\n",
    "tif = TIFF.open('PM2.5_Images/2015.tif') # open tiff file in read mode\n",
    "# read an image in the current TIFF directory as a numpy array\n",
    "image = tif.read_image()\n",
    "\n",
    "# read all images in a TIFF file:\n",
    "for image in tif.iter_images(): \n",
    "    pass\n",
    "\n",
    "tif = TIFF.open('PM2.5_Images/2015_new.tif', mode='w')\n",
    "tif.write_image(image)"
   ]
  },
  {
   "cell_type": "code",
   "execution_count": 20,
   "id": "3e97623f-991d-492f-ac70-c26d1fa1d327",
   "metadata": {},
   "outputs": [],
   "source": [
    "import georasters as gr"
   ]
  },
  {
   "cell_type": "code",
   "execution_count": 21,
   "id": "241f2192-8c27-44bb-89ff-0eb5e10dfcc1",
   "metadata": {},
   "outputs": [],
   "source": [
    "pm_2015 = gr.from_file('PM2.5_Images/2015_new.tif')"
   ]
  },
  {
   "cell_type": "code",
   "execution_count": 22,
   "id": "589c757e-d400-4f86-96e1-b9d306b5f833",
   "metadata": {},
   "outputs": [
    {
     "data": {
      "text/plain": [
       "<AxesSubplot:>"
      ]
     },
     "execution_count": 22,
     "metadata": {},
     "output_type": "execute_result"
    },
    {
     "data": {
      "image/png": "[encoded data removed]",
      "text/plain": [
       "<Figure size 432x288 with 1 Axes>"
      ]
     },
     "metadata": {
      "needs_background": "light"
     },
     "output_type": "display_data"
    }
   ],
   "source": [
    "pm_2015.plot()"
   ]
  },
  {
   "cell_type": "code",
   "execution_count": null,
   "id": "14a4224d-a803-4c2a-8249-27b9259480c5",
   "metadata": {},
   "outputs": [],
   "source": []
  },
  {
   "cell_type": "code",
   "execution_count": 23,
   "id": "5331b4d5-4e50-4611-8103-768721fb2dc6",
   "metadata": {},
   "outputs": [],
   "source": [
    "pm_2015 = pm_2015.to_pandas()"
   ]
  },
  {
   "cell_type": "code",
   "execution_count": 24,
   "id": "1ed08be4-d11a-4a07-a9fb-5012a683ab09",
   "metadata": {},
   "outputs": [
    {
     "data": {
      "text/html": [
       "<div>\n",
       "<style scoped>\n",
       "    .dataframe tbody tr th:only-of-type {\n",
       "        vertical-align: middle;\n",
       "    }\n",
       "\n",
       "    .dataframe tbody tr th {\n",
       "        vertical-align: top;\n",
       "    }\n",
       "\n",
       "    .dataframe thead th {\n",
       "        text-align: right;\n",
       "    }\n",
       "</style>\n",
       "<table border=\"1\" class=\"dataframe\">\n",
       "  <thead>\n",
       "    <tr style=\"text-align: right;\">\n",
       "      <th></th>\n",
       "      <th>row</th>\n",
       "      <th>col</th>\n",
       "      <th>value</th>\n",
       "      <th>x</th>\n",
       "      <th>y</th>\n",
       "    </tr>\n",
       "  </thead>\n",
       "  <tbody>\n",
       "    <tr>\n",
       "      <th>0</th>\n",
       "      <td>0</td>\n",
       "      <td>0</td>\n",
       "      <td>-3.400000e+38</td>\n",
       "      <td>0.0</td>\n",
       "      <td>0.0</td>\n",
       "    </tr>\n",
       "    <tr>\n",
       "      <th>1</th>\n",
       "      <td>0</td>\n",
       "      <td>1</td>\n",
       "      <td>-3.400000e+38</td>\n",
       "      <td>1.0</td>\n",
       "      <td>0.0</td>\n",
       "    </tr>\n",
       "    <tr>\n",
       "      <th>2</th>\n",
       "      <td>0</td>\n",
       "      <td>2</td>\n",
       "      <td>-3.400000e+38</td>\n",
       "      <td>2.0</td>\n",
       "      <td>0.0</td>\n",
       "    </tr>\n",
       "    <tr>\n",
       "      <th>3</th>\n",
       "      <td>0</td>\n",
       "      <td>3</td>\n",
       "      <td>-3.400000e+38</td>\n",
       "      <td>3.0</td>\n",
       "      <td>0.0</td>\n",
       "    </tr>\n",
       "    <tr>\n",
       "      <th>4</th>\n",
       "      <td>0</td>\n",
       "      <td>4</td>\n",
       "      <td>-3.400000e+38</td>\n",
       "      <td>4.0</td>\n",
       "      <td>0.0</td>\n",
       "    </tr>\n",
       "  </tbody>\n",
       "</table>\n",
       "</div>"
      ],
      "text/plain": [
       "   row  col         value    x    y\n",
       "0    0    0 -3.400000e+38  0.0  0.0\n",
       "1    0    1 -3.400000e+38  1.0  0.0\n",
       "2    0    2 -3.400000e+38  2.0  0.0\n",
       "3    0    3 -3.400000e+38  3.0  0.0\n",
       "4    0    4 -3.400000e+38  4.0  0.0"
      ]
     },
     "execution_count": 24,
     "metadata": {},
     "output_type": "execute_result"
    }
   ],
   "source": [
    "pm_2015.head()"
   ]
  },
  {
   "cell_type": "code",
   "execution_count": 25,
   "id": "8ed013ac-c899-4825-b8d7-eb4fd957dba0",
   "metadata": {},
   "outputs": [
    {
     "data": {
      "text/plain": [
       "array([-3.4000000e+38,  3.1552072e+00,  1.6429625e+00, ...,\n",
       "        1.8782512e+00,  5.4711609e+00,  5.4445181e+00], dtype=float32)"
      ]
     },
     "execution_count": 25,
     "metadata": {},
     "output_type": "execute_result"
    }
   ],
   "source": [
    "pm_2015['value'].unique()"
   ]
  },
  {
   "cell_type": "code",
   "execution_count": 26,
   "id": "12c335c7-8505-4e0c-b4f7-4bc1037f8e65",
   "metadata": {},
   "outputs": [
    {
     "data": {
      "text/plain": [
       "(12590305, 5)"
      ]
     },
     "execution_count": 26,
     "metadata": {},
     "output_type": "execute_result"
    }
   ],
   "source": [
    "pm_2015.shape"
   ]
  },
  {
   "cell_type": "code",
   "execution_count": 27,
   "id": "aef4bfe5-0c34-496f-abbe-a0feba5afc64",
   "metadata": {},
   "outputs": [],
   "source": [
    "import numpy as np\n",
    "import math"
   ]
  },
  {
   "cell_type": "code",
   "execution_count": 28,
   "id": "624abc24-0b9c-4ff3-a30a-86ee3e955e50",
   "metadata": {},
   "outputs": [
    {
     "data": {
      "text/plain": [
       "3.141592653589793"
      ]
     },
     "execution_count": 28,
     "metadata": {},
     "output_type": "execute_result"
    }
   ],
   "source": [
    "lat = 90\n",
    "np.pi"
   ]
  },
  {
   "cell_type": "code",
   "execution_count": 29,
   "id": "c75fdaf9-1ad0-4794-b22b-39a2025d1798",
   "metadata": {},
   "outputs": [
    {
     "data": {
      "text/plain": [
       "0.7071067811865476"
      ]
     },
     "execution_count": 29,
     "metadata": {},
     "output_type": "execute_result"
    }
   ],
   "source": [
    "np.cos((45/180)*np.pi)"
   ]
  },
  {
   "cell_type": "markdown",
   "id": "6f70c0a2-66c8-4a61-b12c-2ce7efb8d347",
   "metadata": {},
   "source": [
    "### Bounding information\n",
    "#### Bounding Coordinates:\n",
    "#### West Bounding Coordinate: -180.000000\n",
    "#### East Bounding Coordinate: -65.000000\n",
    "#### North Bounding Coordinate: 72.000000\n",
    "#### South Bounding Coordinate: 17.000000"
   ]
  },
  {
   "cell_type": "markdown",
   "id": "b590a94a-a268-4463-87a6-99045951e6ee",
   "metadata": {},
   "source": [
    "### The conversion between latitude/longitude and distance\n",
    "#### he approximate conversions are:\n",
    "#### Latitude: 1 deg = 110.574 km\n",
    "#### Longitude: 1 deg = 111.320*cos(latitude) km - latitude should be radian first"
   ]
  },
  {
   "cell_type": "code",
   "execution_count": 30,
   "id": "36724569-a6ee-46dc-8148-22afe01e51f3",
   "metadata": {},
   "outputs": [
    {
     "data": {
      "text/plain": [
       "0.009043717329571148"
      ]
     },
     "execution_count": 30,
     "metadata": {},
     "output_type": "execute_result"
    }
   ],
   "source": [
    "degree_lat = 1/110.574\n",
    "degree_lat"
   ]
  },
  {
   "cell_type": "code",
   "execution_count": 31,
   "id": "d52ead6e-3ad3-438d-b862-4353276d9021",
   "metadata": {},
   "outputs": [],
   "source": [
    "lat_origin = (72/180)* np.pi"
   ]
  },
  {
   "cell_type": "code",
   "execution_count": 32,
   "id": "9a76c410-5971-4e8c-b222-dfaf33e1c374",
   "metadata": {},
   "outputs": [],
   "source": [
    "degree_lon = 1/(111.320*np.cos(lat_origin))"
   ]
  },
  {
   "cell_type": "code",
   "execution_count": 33,
   "id": "87f350e0-0a22-4378-bc18-f964ad2c3388",
   "metadata": {},
   "outputs": [
    {
     "data": {
      "text/plain": [
       "0.029069960272186394"
      ]
     },
     "execution_count": 33,
     "metadata": {},
     "output_type": "execute_result"
    }
   ],
   "source": [
    "degree_lon"
   ]
  },
  {
   "cell_type": "code",
   "execution_count": 34,
   "id": "69164863-1411-4d3d-a4fc-73775f137b36",
   "metadata": {},
   "outputs": [
    {
     "data": {
      "text/html": [
       "<div>\n",
       "<style scoped>\n",
       "    .dataframe tbody tr th:only-of-type {\n",
       "        vertical-align: middle;\n",
       "    }\n",
       "\n",
       "    .dataframe tbody tr th {\n",
       "        vertical-align: top;\n",
       "    }\n",
       "\n",
       "    .dataframe thead th {\n",
       "        text-align: right;\n",
       "    }\n",
       "</style>\n",
       "<table border=\"1\" class=\"dataframe\">\n",
       "  <thead>\n",
       "    <tr style=\"text-align: right;\">\n",
       "      <th></th>\n",
       "      <th>row</th>\n",
       "      <th>col</th>\n",
       "      <th>value</th>\n",
       "      <th>x</th>\n",
       "      <th>y</th>\n",
       "    </tr>\n",
       "  </thead>\n",
       "  <tbody>\n",
       "    <tr>\n",
       "      <th>0</th>\n",
       "      <td>0</td>\n",
       "      <td>0</td>\n",
       "      <td>-3.400000e+38</td>\n",
       "      <td>0.0</td>\n",
       "      <td>0.0</td>\n",
       "    </tr>\n",
       "    <tr>\n",
       "      <th>1</th>\n",
       "      <td>0</td>\n",
       "      <td>1</td>\n",
       "      <td>-3.400000e+38</td>\n",
       "      <td>1.0</td>\n",
       "      <td>0.0</td>\n",
       "    </tr>\n",
       "    <tr>\n",
       "      <th>2</th>\n",
       "      <td>0</td>\n",
       "      <td>2</td>\n",
       "      <td>-3.400000e+38</td>\n",
       "      <td>2.0</td>\n",
       "      <td>0.0</td>\n",
       "    </tr>\n",
       "    <tr>\n",
       "      <th>3</th>\n",
       "      <td>0</td>\n",
       "      <td>3</td>\n",
       "      <td>-3.400000e+38</td>\n",
       "      <td>3.0</td>\n",
       "      <td>0.0</td>\n",
       "    </tr>\n",
       "    <tr>\n",
       "      <th>4</th>\n",
       "      <td>0</td>\n",
       "      <td>4</td>\n",
       "      <td>-3.400000e+38</td>\n",
       "      <td>4.0</td>\n",
       "      <td>0.0</td>\n",
       "    </tr>\n",
       "  </tbody>\n",
       "</table>\n",
       "</div>"
      ],
      "text/plain": [
       "   row  col         value    x    y\n",
       "0    0    0 -3.400000e+38  0.0  0.0\n",
       "1    0    1 -3.400000e+38  1.0  0.0\n",
       "2    0    2 -3.400000e+38  2.0  0.0\n",
       "3    0    3 -3.400000e+38  3.0  0.0\n",
       "4    0    4 -3.400000e+38  4.0  0.0"
      ]
     },
     "execution_count": 34,
     "metadata": {},
     "output_type": "execute_result"
    }
   ],
   "source": [
    "pm_2016.head()"
   ]
  },
  {
   "cell_type": "code",
   "execution_count": 35,
   "id": "c3d0345e-409d-4950-9819-77bcebc48de7",
   "metadata": {},
   "outputs": [
    {
     "data": {
      "text/html": [
       "<div>\n",
       "<style scoped>\n",
       "    .dataframe tbody tr th:only-of-type {\n",
       "        vertical-align: middle;\n",
       "    }\n",
       "\n",
       "    .dataframe tbody tr th {\n",
       "        vertical-align: top;\n",
       "    }\n",
       "\n",
       "    .dataframe thead th {\n",
       "        text-align: right;\n",
       "    }\n",
       "</style>\n",
       "<table border=\"1\" class=\"dataframe\">\n",
       "  <thead>\n",
       "    <tr style=\"text-align: right;\">\n",
       "      <th></th>\n",
       "      <th>row</th>\n",
       "      <th>col</th>\n",
       "      <th>value</th>\n",
       "      <th>x</th>\n",
       "      <th>y</th>\n",
       "    </tr>\n",
       "  </thead>\n",
       "  <tbody>\n",
       "    <tr>\n",
       "      <th>12590300</th>\n",
       "      <td>2890</td>\n",
       "      <td>4350</td>\n",
       "      <td>-3.400000e+38</td>\n",
       "      <td>4350.0</td>\n",
       "      <td>2890.0</td>\n",
       "    </tr>\n",
       "    <tr>\n",
       "      <th>12590301</th>\n",
       "      <td>2890</td>\n",
       "      <td>4351</td>\n",
       "      <td>-3.400000e+38</td>\n",
       "      <td>4351.0</td>\n",
       "      <td>2890.0</td>\n",
       "    </tr>\n",
       "    <tr>\n",
       "      <th>12590302</th>\n",
       "      <td>2890</td>\n",
       "      <td>4352</td>\n",
       "      <td>-3.400000e+38</td>\n",
       "      <td>4352.0</td>\n",
       "      <td>2890.0</td>\n",
       "    </tr>\n",
       "    <tr>\n",
       "      <th>12590303</th>\n",
       "      <td>2890</td>\n",
       "      <td>4353</td>\n",
       "      <td>-3.400000e+38</td>\n",
       "      <td>4353.0</td>\n",
       "      <td>2890.0</td>\n",
       "    </tr>\n",
       "    <tr>\n",
       "      <th>12590304</th>\n",
       "      <td>2890</td>\n",
       "      <td>4354</td>\n",
       "      <td>-3.400000e+38</td>\n",
       "      <td>4354.0</td>\n",
       "      <td>2890.0</td>\n",
       "    </tr>\n",
       "  </tbody>\n",
       "</table>\n",
       "</div>"
      ],
      "text/plain": [
       "           row   col         value       x       y\n",
       "12590300  2890  4350 -3.400000e+38  4350.0  2890.0\n",
       "12590301  2890  4351 -3.400000e+38  4351.0  2890.0\n",
       "12590302  2890  4352 -3.400000e+38  4352.0  2890.0\n",
       "12590303  2890  4353 -3.400000e+38  4353.0  2890.0\n",
       "12590304  2890  4354 -3.400000e+38  4354.0  2890.0"
      ]
     },
     "execution_count": 35,
     "metadata": {},
     "output_type": "execute_result"
    }
   ],
   "source": [
    "pm_2016.tail()"
   ]
  },
  {
   "cell_type": "code",
   "execution_count": 36,
   "id": "7faac030-70d8-4003-af65-46a9625bc80b",
   "metadata": {},
   "outputs": [
    {
     "data": {
      "text/html": [
       "<div>\n",
       "<style scoped>\n",
       "    .dataframe tbody tr th:only-of-type {\n",
       "        vertical-align: middle;\n",
       "    }\n",
       "\n",
       "    .dataframe tbody tr th {\n",
       "        vertical-align: top;\n",
       "    }\n",
       "\n",
       "    .dataframe thead th {\n",
       "        text-align: right;\n",
       "    }\n",
       "</style>\n",
       "<table border=\"1\" class=\"dataframe\">\n",
       "  <thead>\n",
       "    <tr style=\"text-align: right;\">\n",
       "      <th></th>\n",
       "      <th>row</th>\n",
       "      <th>col</th>\n",
       "      <th>value</th>\n",
       "      <th>x</th>\n",
       "      <th>y</th>\n",
       "    </tr>\n",
       "  </thead>\n",
       "  <tbody>\n",
       "    <tr>\n",
       "      <th>count</th>\n",
       "      <td>1.259030e+07</td>\n",
       "      <td>1.259030e+07</td>\n",
       "      <td>1.259030e+07</td>\n",
       "      <td>1.259030e+07</td>\n",
       "      <td>1.259030e+07</td>\n",
       "    </tr>\n",
       "    <tr>\n",
       "      <th>mean</th>\n",
       "      <td>1.445000e+03</td>\n",
       "      <td>2.177000e+03</td>\n",
       "      <td>-inf</td>\n",
       "      <td>2.177000e+03</td>\n",
       "      <td>1.445000e+03</td>\n",
       "    </tr>\n",
       "    <tr>\n",
       "      <th>std</th>\n",
       "      <td>8.345598e+02</td>\n",
       "      <td>1.257180e+03</td>\n",
       "      <td>inf</td>\n",
       "      <td>1.257180e+03</td>\n",
       "      <td>8.345598e+02</td>\n",
       "    </tr>\n",
       "    <tr>\n",
       "      <th>min</th>\n",
       "      <td>0.000000e+00</td>\n",
       "      <td>0.000000e+00</td>\n",
       "      <td>-3.400000e+38</td>\n",
       "      <td>0.000000e+00</td>\n",
       "      <td>0.000000e+00</td>\n",
       "    </tr>\n",
       "    <tr>\n",
       "      <th>25%</th>\n",
       "      <td>7.220000e+02</td>\n",
       "      <td>1.088000e+03</td>\n",
       "      <td>-3.400000e+38</td>\n",
       "      <td>1.088000e+03</td>\n",
       "      <td>7.220000e+02</td>\n",
       "    </tr>\n",
       "    <tr>\n",
       "      <th>50%</th>\n",
       "      <td>1.445000e+03</td>\n",
       "      <td>2.177000e+03</td>\n",
       "      <td>2.666855e+00</td>\n",
       "      <td>2.177000e+03</td>\n",
       "      <td>1.445000e+03</td>\n",
       "    </tr>\n",
       "    <tr>\n",
       "      <th>75%</th>\n",
       "      <td>2.168000e+03</td>\n",
       "      <td>3.266000e+03</td>\n",
       "      <td>5.865504e+00</td>\n",
       "      <td>3.266000e+03</td>\n",
       "      <td>2.168000e+03</td>\n",
       "    </tr>\n",
       "    <tr>\n",
       "      <th>max</th>\n",
       "      <td>2.890000e+03</td>\n",
       "      <td>4.354000e+03</td>\n",
       "      <td>2.946662e+01</td>\n",
       "      <td>4.354000e+03</td>\n",
       "      <td>2.890000e+03</td>\n",
       "    </tr>\n",
       "  </tbody>\n",
       "</table>\n",
       "</div>"
      ],
      "text/plain": [
       "                row           col         value             x             y\n",
       "count  1.259030e+07  1.259030e+07  1.259030e+07  1.259030e+07  1.259030e+07\n",
       "mean   1.445000e+03  2.177000e+03          -inf  2.177000e+03  1.445000e+03\n",
       "std    8.345598e+02  1.257180e+03           inf  1.257180e+03  8.345598e+02\n",
       "min    0.000000e+00  0.000000e+00 -3.400000e+38  0.000000e+00  0.000000e+00\n",
       "25%    7.220000e+02  1.088000e+03 -3.400000e+38  1.088000e+03  7.220000e+02\n",
       "50%    1.445000e+03  2.177000e+03  2.666855e+00  2.177000e+03  1.445000e+03\n",
       "75%    2.168000e+03  3.266000e+03  5.865504e+00  3.266000e+03  2.168000e+03\n",
       "max    2.890000e+03  4.354000e+03  2.946662e+01  4.354000e+03  2.890000e+03"
      ]
     },
     "execution_count": 36,
     "metadata": {},
     "output_type": "execute_result"
    }
   ],
   "source": [
    "pm_2016.describe()"
   ]
  },
  {
   "cell_type": "markdown",
   "id": "9f7b8147-4f83-447a-8122-dfaa2efda3d0",
   "metadata": {},
   "source": [
    "### I guess the coordinate of origin is (-125, 49)"
   ]
  },
  {
   "cell_type": "code",
   "execution_count": 37,
   "id": "9733a56e-3c3f-4319-81ca-270d2dfcf69b",
   "metadata": {},
   "outputs": [],
   "source": [
    "def findCoordinate(lon_x, lat_y):\n",
    "    point = []\n",
    "    degree_lat = 1/110.574\n",
    "    lat = 49 - lat_y*degree_lat\n",
    "    lat_radian = (lat/180)*np.pi\n",
    "    degree_lon = 1/(111.320*np.cos(lat_radian))\n",
    "    lon = -125 + (lon_x * degree_lon)\n",
    "    point.append(lat)\n",
    "    point.append(lon)\n",
    "    return point"
   ]
  },
  {
   "cell_type": "code",
   "execution_count": 38,
   "id": "ca8523cc-e42b-4d98-8853-6210e3bb9713",
   "metadata": {},
   "outputs": [],
   "source": [
    "pm_2016['coordinate'] = pm_2016.apply(lambda x: findCoordinate(x['x'], x['y']), axis=1)"
   ]
  },
  {
   "cell_type": "code",
   "execution_count": 39,
   "id": "21ada989-1bde-42b1-a483-48408d142e2a",
   "metadata": {},
   "outputs": [
    {
     "data": {
      "text/html": [
       "<div>\n",
       "<style scoped>\n",
       "    .dataframe tbody tr th:only-of-type {\n",
       "        vertical-align: middle;\n",
       "    }\n",
       "\n",
       "    .dataframe tbody tr th {\n",
       "        vertical-align: top;\n",
       "    }\n",
       "\n",
       "    .dataframe thead th {\n",
       "        text-align: right;\n",
       "    }\n",
       "</style>\n",
       "<table border=\"1\" class=\"dataframe\">\n",
       "  <thead>\n",
       "    <tr style=\"text-align: right;\">\n",
       "      <th></th>\n",
       "      <th>row</th>\n",
       "      <th>col</th>\n",
       "      <th>value</th>\n",
       "      <th>x</th>\n",
       "      <th>y</th>\n",
       "      <th>coordinate</th>\n",
       "    </tr>\n",
       "  </thead>\n",
       "  <tbody>\n",
       "    <tr>\n",
       "      <th>0</th>\n",
       "      <td>0</td>\n",
       "      <td>0</td>\n",
       "      <td>-3.400000e+38</td>\n",
       "      <td>0.0</td>\n",
       "      <td>0.0</td>\n",
       "      <td>[49.0, -125.0]</td>\n",
       "    </tr>\n",
       "    <tr>\n",
       "      <th>1</th>\n",
       "      <td>0</td>\n",
       "      <td>1</td>\n",
       "      <td>-3.400000e+38</td>\n",
       "      <td>1.0</td>\n",
       "      <td>0.0</td>\n",
       "      <td>[49.0, -124.98630746418698]</td>\n",
       "    </tr>\n",
       "    <tr>\n",
       "      <th>2</th>\n",
       "      <td>0</td>\n",
       "      <td>2</td>\n",
       "      <td>-3.400000e+38</td>\n",
       "      <td>2.0</td>\n",
       "      <td>0.0</td>\n",
       "      <td>[49.0, -124.97261492837396]</td>\n",
       "    </tr>\n",
       "    <tr>\n",
       "      <th>3</th>\n",
       "      <td>0</td>\n",
       "      <td>3</td>\n",
       "      <td>-3.400000e+38</td>\n",
       "      <td>3.0</td>\n",
       "      <td>0.0</td>\n",
       "      <td>[49.0, -124.95892239256092]</td>\n",
       "    </tr>\n",
       "    <tr>\n",
       "      <th>4</th>\n",
       "      <td>0</td>\n",
       "      <td>4</td>\n",
       "      <td>-3.400000e+38</td>\n",
       "      <td>4.0</td>\n",
       "      <td>0.0</td>\n",
       "      <td>[49.0, -124.9452298567479]</td>\n",
       "    </tr>\n",
       "  </tbody>\n",
       "</table>\n",
       "</div>"
      ],
      "text/plain": [
       "   row  col         value    x    y                   coordinate\n",
       "0    0    0 -3.400000e+38  0.0  0.0               [49.0, -125.0]\n",
       "1    0    1 -3.400000e+38  1.0  0.0  [49.0, -124.98630746418698]\n",
       "2    0    2 -3.400000e+38  2.0  0.0  [49.0, -124.97261492837396]\n",
       "3    0    3 -3.400000e+38  3.0  0.0  [49.0, -124.95892239256092]\n",
       "4    0    4 -3.400000e+38  4.0  0.0   [49.0, -124.9452298567479]"
      ]
     },
     "execution_count": 39,
     "metadata": {},
     "output_type": "execute_result"
    }
   ],
   "source": [
    "pm_2016.head()"
   ]
  },
  {
   "cell_type": "markdown",
   "id": "e3ffb1cd-2197-4333-8229-e7317a144612",
   "metadata": {},
   "source": [
    "#### make the grid be 100km*100km"
   ]
  },
  {
   "cell_type": "code",
   "execution_count": 40,
   "id": "1a86f5d7-4412-4dcf-8c6c-9f76e6d0ff9a",
   "metadata": {},
   "outputs": [],
   "source": [
    "pm_16 = pm_2016[pm_2016.index % 100 == 0]"
   ]
  },
  {
   "cell_type": "code",
   "execution_count": 41,
   "id": "112baad5-7d8f-4d92-b044-e0b62cfbcf3c",
   "metadata": {},
   "outputs": [
    {
     "data": {
      "text/html": [
       "<div>\n",
       "<style scoped>\n",
       "    .dataframe tbody tr th:only-of-type {\n",
       "        vertical-align: middle;\n",
       "    }\n",
       "\n",
       "    .dataframe tbody tr th {\n",
       "        vertical-align: top;\n",
       "    }\n",
       "\n",
       "    .dataframe thead th {\n",
       "        text-align: right;\n",
       "    }\n",
       "</style>\n",
       "<table border=\"1\" class=\"dataframe\">\n",
       "  <thead>\n",
       "    <tr style=\"text-align: right;\">\n",
       "      <th></th>\n",
       "      <th>row</th>\n",
       "      <th>col</th>\n",
       "      <th>value</th>\n",
       "      <th>x</th>\n",
       "      <th>y</th>\n",
       "      <th>coordinate</th>\n",
       "    </tr>\n",
       "  </thead>\n",
       "  <tbody>\n",
       "    <tr>\n",
       "      <th>0</th>\n",
       "      <td>0</td>\n",
       "      <td>0</td>\n",
       "      <td>-3.400000e+38</td>\n",
       "      <td>0.0</td>\n",
       "      <td>0.0</td>\n",
       "      <td>[49.0, -125.0]</td>\n",
       "    </tr>\n",
       "    <tr>\n",
       "      <th>100</th>\n",
       "      <td>0</td>\n",
       "      <td>100</td>\n",
       "      <td>-3.400000e+38</td>\n",
       "      <td>100.0</td>\n",
       "      <td>0.0</td>\n",
       "      <td>[49.0, -123.63074641869761]</td>\n",
       "    </tr>\n",
       "    <tr>\n",
       "      <th>200</th>\n",
       "      <td>0</td>\n",
       "      <td>200</td>\n",
       "      <td>-3.400000e+38</td>\n",
       "      <td>200.0</td>\n",
       "      <td>0.0</td>\n",
       "      <td>[49.0, -122.26149283739524]</td>\n",
       "    </tr>\n",
       "    <tr>\n",
       "      <th>300</th>\n",
       "      <td>0</td>\n",
       "      <td>300</td>\n",
       "      <td>-3.400000e+38</td>\n",
       "      <td>300.0</td>\n",
       "      <td>0.0</td>\n",
       "      <td>[49.0, -120.89223925609285]</td>\n",
       "    </tr>\n",
       "    <tr>\n",
       "      <th>400</th>\n",
       "      <td>0</td>\n",
       "      <td>400</td>\n",
       "      <td>-3.400000e+38</td>\n",
       "      <td>400.0</td>\n",
       "      <td>0.0</td>\n",
       "      <td>[49.0, -119.52298567479046]</td>\n",
       "    </tr>\n",
       "  </tbody>\n",
       "</table>\n",
       "</div>"
      ],
      "text/plain": [
       "     row  col         value      x    y                   coordinate\n",
       "0      0    0 -3.400000e+38    0.0  0.0               [49.0, -125.0]\n",
       "100    0  100 -3.400000e+38  100.0  0.0  [49.0, -123.63074641869761]\n",
       "200    0  200 -3.400000e+38  200.0  0.0  [49.0, -122.26149283739524]\n",
       "300    0  300 -3.400000e+38  300.0  0.0  [49.0, -120.89223925609285]\n",
       "400    0  400 -3.400000e+38  400.0  0.0  [49.0, -119.52298567479046]"
      ]
     },
     "execution_count": 41,
     "metadata": {},
     "output_type": "execute_result"
    }
   ],
   "source": [
    "pm_16.head()"
   ]
  },
  {
   "cell_type": "code",
   "execution_count": 42,
   "id": "373ebcd8-4476-426d-99f0-d15cfcc693d6",
   "metadata": {},
   "outputs": [
    {
     "data": {
      "text/html": [
       "<div>\n",
       "<style scoped>\n",
       "    .dataframe tbody tr th:only-of-type {\n",
       "        vertical-align: middle;\n",
       "    }\n",
       "\n",
       "    .dataframe tbody tr th {\n",
       "        vertical-align: top;\n",
       "    }\n",
       "\n",
       "    .dataframe thead th {\n",
       "        text-align: right;\n",
       "    }\n",
       "</style>\n",
       "<table border=\"1\" class=\"dataframe\">\n",
       "  <thead>\n",
       "    <tr style=\"text-align: right;\">\n",
       "      <th></th>\n",
       "      <th>index</th>\n",
       "      <th>row</th>\n",
       "      <th>col</th>\n",
       "      <th>value</th>\n",
       "      <th>x</th>\n",
       "      <th>y</th>\n",
       "      <th>coordinate</th>\n",
       "    </tr>\n",
       "  </thead>\n",
       "  <tbody>\n",
       "    <tr>\n",
       "      <th>0</th>\n",
       "      <td>0</td>\n",
       "      <td>0</td>\n",
       "      <td>0</td>\n",
       "      <td>-3.400000e+38</td>\n",
       "      <td>0.0</td>\n",
       "      <td>0.0</td>\n",
       "      <td>[49.0, -125.0]</td>\n",
       "    </tr>\n",
       "    <tr>\n",
       "      <th>1</th>\n",
       "      <td>100</td>\n",
       "      <td>0</td>\n",
       "      <td>100</td>\n",
       "      <td>-3.400000e+38</td>\n",
       "      <td>100.0</td>\n",
       "      <td>0.0</td>\n",
       "      <td>[49.0, -123.63074641869761]</td>\n",
       "    </tr>\n",
       "    <tr>\n",
       "      <th>2</th>\n",
       "      <td>200</td>\n",
       "      <td>0</td>\n",
       "      <td>200</td>\n",
       "      <td>-3.400000e+38</td>\n",
       "      <td>200.0</td>\n",
       "      <td>0.0</td>\n",
       "      <td>[49.0, -122.26149283739524]</td>\n",
       "    </tr>\n",
       "    <tr>\n",
       "      <th>3</th>\n",
       "      <td>300</td>\n",
       "      <td>0</td>\n",
       "      <td>300</td>\n",
       "      <td>-3.400000e+38</td>\n",
       "      <td>300.0</td>\n",
       "      <td>0.0</td>\n",
       "      <td>[49.0, -120.89223925609285]</td>\n",
       "    </tr>\n",
       "    <tr>\n",
       "      <th>4</th>\n",
       "      <td>400</td>\n",
       "      <td>0</td>\n",
       "      <td>400</td>\n",
       "      <td>-3.400000e+38</td>\n",
       "      <td>400.0</td>\n",
       "      <td>0.0</td>\n",
       "      <td>[49.0, -119.52298567479046]</td>\n",
       "    </tr>\n",
       "  </tbody>\n",
       "</table>\n",
       "</div>"
      ],
      "text/plain": [
       "   index  row  col         value      x    y                   coordinate\n",
       "0      0    0    0 -3.400000e+38    0.0  0.0               [49.0, -125.0]\n",
       "1    100    0  100 -3.400000e+38  100.0  0.0  [49.0, -123.63074641869761]\n",
       "2    200    0  200 -3.400000e+38  200.0  0.0  [49.0, -122.26149283739524]\n",
       "3    300    0  300 -3.400000e+38  300.0  0.0  [49.0, -120.89223925609285]\n",
       "4    400    0  400 -3.400000e+38  400.0  0.0  [49.0, -119.52298567479046]"
      ]
     },
     "execution_count": 42,
     "metadata": {},
     "output_type": "execute_result"
    }
   ],
   "source": [
    "pm_16 = pm_16.reset_index()\n",
    "pm_16.head()"
   ]
  },
  {
   "cell_type": "code",
   "execution_count": 43,
   "id": "179a2f96-b7c9-453f-bc39-7f6df0dcb057",
   "metadata": {},
   "outputs": [],
   "source": [
    "def createID(index):\n",
    "    index = int(index/100)\n",
    "    strIndex = str(index).rjust(6, '0')\n",
    "    return strIndex"
   ]
  },
  {
   "cell_type": "code",
   "execution_count": 44,
   "id": "3d2afd2e-5f20-4f07-aac7-021cc8e81e47",
   "metadata": {},
   "outputs": [],
   "source": [
    "pm_16['ID'] = pm_16['index'].apply(createID)"
   ]
  },
  {
   "cell_type": "code",
   "execution_count": 45,
   "id": "04bc1598-73fa-4fcc-b630-a6daafbb6d0d",
   "metadata": {},
   "outputs": [
    {
     "data": {
      "text/html": [
       "<div>\n",
       "<style scoped>\n",
       "    .dataframe tbody tr th:only-of-type {\n",
       "        vertical-align: middle;\n",
       "    }\n",
       "\n",
       "    .dataframe tbody tr th {\n",
       "        vertical-align: top;\n",
       "    }\n",
       "\n",
       "    .dataframe thead th {\n",
       "        text-align: right;\n",
       "    }\n",
       "</style>\n",
       "<table border=\"1\" class=\"dataframe\">\n",
       "  <thead>\n",
       "    <tr style=\"text-align: right;\">\n",
       "      <th></th>\n",
       "      <th>index</th>\n",
       "      <th>row</th>\n",
       "      <th>col</th>\n",
       "      <th>value</th>\n",
       "      <th>x</th>\n",
       "      <th>y</th>\n",
       "      <th>coordinate</th>\n",
       "      <th>ID</th>\n",
       "    </tr>\n",
       "  </thead>\n",
       "  <tbody>\n",
       "    <tr>\n",
       "      <th>0</th>\n",
       "      <td>0</td>\n",
       "      <td>0</td>\n",
       "      <td>0</td>\n",
       "      <td>-3.400000e+38</td>\n",
       "      <td>0.0</td>\n",
       "      <td>0.0</td>\n",
       "      <td>[49.0, -125.0]</td>\n",
       "      <td>000000</td>\n",
       "    </tr>\n",
       "    <tr>\n",
       "      <th>1</th>\n",
       "      <td>100</td>\n",
       "      <td>0</td>\n",
       "      <td>100</td>\n",
       "      <td>-3.400000e+38</td>\n",
       "      <td>100.0</td>\n",
       "      <td>0.0</td>\n",
       "      <td>[49.0, -123.63074641869761]</td>\n",
       "      <td>000001</td>\n",
       "    </tr>\n",
       "    <tr>\n",
       "      <th>2</th>\n",
       "      <td>200</td>\n",
       "      <td>0</td>\n",
       "      <td>200</td>\n",
       "      <td>-3.400000e+38</td>\n",
       "      <td>200.0</td>\n",
       "      <td>0.0</td>\n",
       "      <td>[49.0, -122.26149283739524]</td>\n",
       "      <td>000002</td>\n",
       "    </tr>\n",
       "    <tr>\n",
       "      <th>3</th>\n",
       "      <td>300</td>\n",
       "      <td>0</td>\n",
       "      <td>300</td>\n",
       "      <td>-3.400000e+38</td>\n",
       "      <td>300.0</td>\n",
       "      <td>0.0</td>\n",
       "      <td>[49.0, -120.89223925609285]</td>\n",
       "      <td>000003</td>\n",
       "    </tr>\n",
       "    <tr>\n",
       "      <th>4</th>\n",
       "      <td>400</td>\n",
       "      <td>0</td>\n",
       "      <td>400</td>\n",
       "      <td>-3.400000e+38</td>\n",
       "      <td>400.0</td>\n",
       "      <td>0.0</td>\n",
       "      <td>[49.0, -119.52298567479046]</td>\n",
       "      <td>000004</td>\n",
       "    </tr>\n",
       "  </tbody>\n",
       "</table>\n",
       "</div>"
      ],
      "text/plain": [
       "   index  row  col         value      x    y                   coordinate  \\\n",
       "0      0    0    0 -3.400000e+38    0.0  0.0               [49.0, -125.0]   \n",
       "1    100    0  100 -3.400000e+38  100.0  0.0  [49.0, -123.63074641869761]   \n",
       "2    200    0  200 -3.400000e+38  200.0  0.0  [49.0, -122.26149283739524]   \n",
       "3    300    0  300 -3.400000e+38  300.0  0.0  [49.0, -120.89223925609285]   \n",
       "4    400    0  400 -3.400000e+38  400.0  0.0  [49.0, -119.52298567479046]   \n",
       "\n",
       "       ID  \n",
       "0  000000  \n",
       "1  000001  \n",
       "2  000002  \n",
       "3  000003  \n",
       "4  000004  "
      ]
     },
     "execution_count": 45,
     "metadata": {},
     "output_type": "execute_result"
    }
   ],
   "source": [
    "pm_16.head()"
   ]
  },
  {
   "cell_type": "code",
   "execution_count": 46,
   "id": "e0b4d45a-5867-4416-acf9-26577f2ee6dd",
   "metadata": {},
   "outputs": [
    {
     "data": {
      "text/plain": [
       "(125904, 8)"
      ]
     },
     "execution_count": 46,
     "metadata": {},
     "output_type": "execute_result"
    }
   ],
   "source": [
    "pm_16.shape"
   ]
  },
  {
   "cell_type": "code",
   "execution_count": 47,
   "id": "86967635-73b9-452b-9f76-c6da758f7099",
   "metadata": {},
   "outputs": [],
   "source": [
    "def ID_Coordinate(ID, coordinate):\n",
    "    setList = []\n",
    "    setList.append(ID)\n",
    "    setList.append(coordinate[0])\n",
    "    setList.append(coordinate[1])\n",
    "    return setList"
   ]
  },
  {
   "cell_type": "code",
   "execution_count": 48,
   "id": "3bf23ff0-fdbb-45d8-8f12-0b023049ffc4",
   "metadata": {},
   "outputs": [],
   "source": [
    "pm_16['ID_Coordinate'] = pm_16.apply(lambda x: ID_Coordinate(x['ID'], x['coordinate']), axis=1)"
   ]
  },
  {
   "cell_type": "code",
   "execution_count": 49,
   "id": "a9eb64f0-3528-40a7-83e3-9759a1334169",
   "metadata": {},
   "outputs": [
    {
     "data": {
      "text/html": [
       "<div>\n",
       "<style scoped>\n",
       "    .dataframe tbody tr th:only-of-type {\n",
       "        vertical-align: middle;\n",
       "    }\n",
       "\n",
       "    .dataframe tbody tr th {\n",
       "        vertical-align: top;\n",
       "    }\n",
       "\n",
       "    .dataframe thead th {\n",
       "        text-align: right;\n",
       "    }\n",
       "</style>\n",
       "<table border=\"1\" class=\"dataframe\">\n",
       "  <thead>\n",
       "    <tr style=\"text-align: right;\">\n",
       "      <th></th>\n",
       "      <th>index</th>\n",
       "      <th>row</th>\n",
       "      <th>col</th>\n",
       "      <th>value</th>\n",
       "      <th>x</th>\n",
       "      <th>y</th>\n",
       "      <th>coordinate</th>\n",
       "      <th>ID</th>\n",
       "      <th>ID_Coordinate</th>\n",
       "    </tr>\n",
       "  </thead>\n",
       "  <tbody>\n",
       "    <tr>\n",
       "      <th>0</th>\n",
       "      <td>0</td>\n",
       "      <td>0</td>\n",
       "      <td>0</td>\n",
       "      <td>-3.400000e+38</td>\n",
       "      <td>0.0</td>\n",
       "      <td>0.0</td>\n",
       "      <td>[49.0, -125.0]</td>\n",
       "      <td>000000</td>\n",
       "      <td>[000000, 49.0, -125.0]</td>\n",
       "    </tr>\n",
       "    <tr>\n",
       "      <th>1</th>\n",
       "      <td>100</td>\n",
       "      <td>0</td>\n",
       "      <td>100</td>\n",
       "      <td>-3.400000e+38</td>\n",
       "      <td>100.0</td>\n",
       "      <td>0.0</td>\n",
       "      <td>[49.0, -123.63074641869761]</td>\n",
       "      <td>000001</td>\n",
       "      <td>[000001, 49.0, -123.63074641869761]</td>\n",
       "    </tr>\n",
       "    <tr>\n",
       "      <th>2</th>\n",
       "      <td>200</td>\n",
       "      <td>0</td>\n",
       "      <td>200</td>\n",
       "      <td>-3.400000e+38</td>\n",
       "      <td>200.0</td>\n",
       "      <td>0.0</td>\n",
       "      <td>[49.0, -122.26149283739524]</td>\n",
       "      <td>000002</td>\n",
       "      <td>[000002, 49.0, -122.26149283739524]</td>\n",
       "    </tr>\n",
       "    <tr>\n",
       "      <th>3</th>\n",
       "      <td>300</td>\n",
       "      <td>0</td>\n",
       "      <td>300</td>\n",
       "      <td>-3.400000e+38</td>\n",
       "      <td>300.0</td>\n",
       "      <td>0.0</td>\n",
       "      <td>[49.0, -120.89223925609285]</td>\n",
       "      <td>000003</td>\n",
       "      <td>[000003, 49.0, -120.89223925609285]</td>\n",
       "    </tr>\n",
       "    <tr>\n",
       "      <th>4</th>\n",
       "      <td>400</td>\n",
       "      <td>0</td>\n",
       "      <td>400</td>\n",
       "      <td>-3.400000e+38</td>\n",
       "      <td>400.0</td>\n",
       "      <td>0.0</td>\n",
       "      <td>[49.0, -119.52298567479046]</td>\n",
       "      <td>000004</td>\n",
       "      <td>[000004, 49.0, -119.52298567479046]</td>\n",
       "    </tr>\n",
       "  </tbody>\n",
       "</table>\n",
       "</div>"
      ],
      "text/plain": [
       "   index  row  col         value      x    y                   coordinate  \\\n",
       "0      0    0    0 -3.400000e+38    0.0  0.0               [49.0, -125.0]   \n",
       "1    100    0  100 -3.400000e+38  100.0  0.0  [49.0, -123.63074641869761]   \n",
       "2    200    0  200 -3.400000e+38  200.0  0.0  [49.0, -122.26149283739524]   \n",
       "3    300    0  300 -3.400000e+38  300.0  0.0  [49.0, -120.89223925609285]   \n",
       "4    400    0  400 -3.400000e+38  400.0  0.0  [49.0, -119.52298567479046]   \n",
       "\n",
       "       ID                        ID_Coordinate  \n",
       "0  000000               [000000, 49.0, -125.0]  \n",
       "1  000001  [000001, 49.0, -123.63074641869761]  \n",
       "2  000002  [000002, 49.0, -122.26149283739524]  \n",
       "3  000003  [000003, 49.0, -120.89223925609285]  \n",
       "4  000004  [000004, 49.0, -119.52298567479046]  "
      ]
     },
     "execution_count": 49,
     "metadata": {},
     "output_type": "execute_result"
    }
   ],
   "source": [
    "pm_16.head()"
   ]
  },
  {
   "cell_type": "code",
   "execution_count": 50,
   "id": "43cecb17-10be-480c-99d8-bcb56dbee810",
   "metadata": {},
   "outputs": [],
   "source": [
    "pm_16 = pm_16.rename(columns = {'value': 'PM2.5'})"
   ]
  },
  {
   "cell_type": "code",
   "execution_count": 52,
   "id": "d8c9f6e2-8162-4607-8363-38c1653b0bb7",
   "metadata": {},
   "outputs": [
    {
     "data": {
      "text/html": [
       "<div>\n",
       "<style scoped>\n",
       "    .dataframe tbody tr th:only-of-type {\n",
       "        vertical-align: middle;\n",
       "    }\n",
       "\n",
       "    .dataframe tbody tr th {\n",
       "        vertical-align: top;\n",
       "    }\n",
       "\n",
       "    .dataframe thead th {\n",
       "        text-align: right;\n",
       "    }\n",
       "</style>\n",
       "<table border=\"1\" class=\"dataframe\">\n",
       "  <thead>\n",
       "    <tr style=\"text-align: right;\">\n",
       "      <th></th>\n",
       "      <th>index</th>\n",
       "      <th>row</th>\n",
       "      <th>col</th>\n",
       "      <th>PM2.5</th>\n",
       "      <th>x</th>\n",
       "      <th>y</th>\n",
       "      <th>coordinate</th>\n",
       "      <th>ID</th>\n",
       "      <th>ID_Coordinate</th>\n",
       "    </tr>\n",
       "  </thead>\n",
       "  <tbody>\n",
       "    <tr>\n",
       "      <th>0</th>\n",
       "      <td>0</td>\n",
       "      <td>0</td>\n",
       "      <td>0</td>\n",
       "      <td>-3.400000e+38</td>\n",
       "      <td>0.0</td>\n",
       "      <td>0.0</td>\n",
       "      <td>[49.0, -125.0]</td>\n",
       "      <td>000000</td>\n",
       "      <td>[000000, 49.0, -125.0]</td>\n",
       "    </tr>\n",
       "    <tr>\n",
       "      <th>1</th>\n",
       "      <td>100</td>\n",
       "      <td>0</td>\n",
       "      <td>100</td>\n",
       "      <td>-3.400000e+38</td>\n",
       "      <td>100.0</td>\n",
       "      <td>0.0</td>\n",
       "      <td>[49.0, -123.63074641869761]</td>\n",
       "      <td>000001</td>\n",
       "      <td>[000001, 49.0, -123.63074641869761]</td>\n",
       "    </tr>\n",
       "    <tr>\n",
       "      <th>2</th>\n",
       "      <td>200</td>\n",
       "      <td>0</td>\n",
       "      <td>200</td>\n",
       "      <td>-3.400000e+38</td>\n",
       "      <td>200.0</td>\n",
       "      <td>0.0</td>\n",
       "      <td>[49.0, -122.26149283739524]</td>\n",
       "      <td>000002</td>\n",
       "      <td>[000002, 49.0, -122.26149283739524]</td>\n",
       "    </tr>\n",
       "    <tr>\n",
       "      <th>3</th>\n",
       "      <td>300</td>\n",
       "      <td>0</td>\n",
       "      <td>300</td>\n",
       "      <td>-3.400000e+38</td>\n",
       "      <td>300.0</td>\n",
       "      <td>0.0</td>\n",
       "      <td>[49.0, -120.89223925609285]</td>\n",
       "      <td>000003</td>\n",
       "      <td>[000003, 49.0, -120.89223925609285]</td>\n",
       "    </tr>\n",
       "    <tr>\n",
       "      <th>4</th>\n",
       "      <td>400</td>\n",
       "      <td>0</td>\n",
       "      <td>400</td>\n",
       "      <td>-3.400000e+38</td>\n",
       "      <td>400.0</td>\n",
       "      <td>0.0</td>\n",
       "      <td>[49.0, -119.52298567479046]</td>\n",
       "      <td>000004</td>\n",
       "      <td>[000004, 49.0, -119.52298567479046]</td>\n",
       "    </tr>\n",
       "  </tbody>\n",
       "</table>\n",
       "</div>"
      ],
      "text/plain": [
       "   index  row  col         PM2.5      x    y                   coordinate  \\\n",
       "0      0    0    0 -3.400000e+38    0.0  0.0               [49.0, -125.0]   \n",
       "1    100    0  100 -3.400000e+38  100.0  0.0  [49.0, -123.63074641869761]   \n",
       "2    200    0  200 -3.400000e+38  200.0  0.0  [49.0, -122.26149283739524]   \n",
       "3    300    0  300 -3.400000e+38  300.0  0.0  [49.0, -120.89223925609285]   \n",
       "4    400    0  400 -3.400000e+38  400.0  0.0  [49.0, -119.52298567479046]   \n",
       "\n",
       "       ID                        ID_Coordinate  \n",
       "0  000000               [000000, 49.0, -125.0]  \n",
       "1  000001  [000001, 49.0, -123.63074641869761]  \n",
       "2  000002  [000002, 49.0, -122.26149283739524]  \n",
       "3  000003  [000003, 49.0, -120.89223925609285]  \n",
       "4  000004  [000004, 49.0, -119.52298567479046]  "
      ]
     },
     "execution_count": 52,
     "metadata": {},
     "output_type": "execute_result"
    }
   ],
   "source": [
    "pm_16.head()"
   ]
  },
  {
   "cell_type": "markdown",
   "id": "29b6700b-b220-4c2f-ab4f-cfdf579d5408",
   "metadata": {},
   "source": [
    "### Assign the PM2.5 to the closest census tract"
   ]
  },
  {
   "cell_type": "code",
   "execution_count": 53,
   "id": "8ba14802-4e18-4228-8421-832482e98822",
   "metadata": {},
   "outputs": [],
   "source": [
    "import pandas as pd\n",
    "import numpy as np\n",
    "import matplotlib.pyplot as plt\n",
    "import dask.dataframe as ddf\n",
    "from pandas import Series, DataFrame\n",
    "%matplotlib inline"
   ]
  },
  {
   "cell_type": "code",
   "execution_count": 54,
   "id": "6fc2b64c-bcec-4cc6-9ae7-deff2c5931cc",
   "metadata": {},
   "outputs": [],
   "source": [
    "import seaborn as sn\n",
    "import plotly.express as px"
   ]
  },
  {
   "cell_type": "code",
   "execution_count": 55,
   "id": "728621ab-67f2-427f-9bc6-2fcf89673d74",
   "metadata": {},
   "outputs": [
    {
     "data": {
      "text/html": [
       "<div>\n",
       "<style scoped>\n",
       "    .dataframe tbody tr th:only-of-type {\n",
       "        vertical-align: middle;\n",
       "    }\n",
       "\n",
       "    .dataframe tbody tr th {\n",
       "        vertical-align: top;\n",
       "    }\n",
       "\n",
       "    .dataframe thead th {\n",
       "        text-align: right;\n",
       "    }\n",
       "</style>\n",
       "<table border=\"1\" class=\"dataframe\">\n",
       "  <thead>\n",
       "    <tr style=\"text-align: right;\">\n",
       "      <th></th>\n",
       "      <th>STATEFP</th>\n",
       "      <th>COUNTYFP</th>\n",
       "      <th>TRACTCE</th>\n",
       "      <th>AFFGEOID</th>\n",
       "      <th>GEOID</th>\n",
       "      <th>NAME</th>\n",
       "      <th>NAMELSAD</th>\n",
       "      <th>STUSPS</th>\n",
       "      <th>NAMELSADCO</th>\n",
       "      <th>STATE_NAME</th>\n",
       "      <th>LSAD</th>\n",
       "      <th>ALAND</th>\n",
       "      <th>AWATER</th>\n",
       "      <th>geometry</th>\n",
       "    </tr>\n",
       "  </thead>\n",
       "  <tbody>\n",
       "    <tr>\n",
       "      <th>0</th>\n",
       "      <td>13</td>\n",
       "      <td>163</td>\n",
       "      <td>960300</td>\n",
       "      <td>1400000US13163960300</td>\n",
       "      <td>13163960300</td>\n",
       "      <td>9603</td>\n",
       "      <td>Census Tract 9603</td>\n",
       "      <td>GA</td>\n",
       "      <td>Jefferson County</td>\n",
       "      <td>Georgia</td>\n",
       "      <td>CT</td>\n",
       "      <td>564728206</td>\n",
       "      <td>4845400</td>\n",
       "      <td>POLYGON ((-82.661917 33.126331, -82.651937 33....</td>\n",
       "    </tr>\n",
       "    <tr>\n",
       "      <th>1</th>\n",
       "      <td>37</td>\n",
       "      <td>109</td>\n",
       "      <td>071201</td>\n",
       "      <td>1400000US37109071201</td>\n",
       "      <td>37109071201</td>\n",
       "      <td>712.01</td>\n",
       "      <td>Census Tract 712.01</td>\n",
       "      <td>NC</td>\n",
       "      <td>Lincoln County</td>\n",
       "      <td>North Carolina</td>\n",
       "      <td>CT</td>\n",
       "      <td>5976613</td>\n",
       "      <td>6611763</td>\n",
       "      <td>POLYGON ((-80.993444 35.478784, -80.9914239999...</td>\n",
       "    </tr>\n",
       "    <tr>\n",
       "      <th>2</th>\n",
       "      <td>25</td>\n",
       "      <td>025</td>\n",
       "      <td>050200</td>\n",
       "      <td>1400000US25025050200</td>\n",
       "      <td>25025050200</td>\n",
       "      <td>502</td>\n",
       "      <td>Census Tract 502</td>\n",
       "      <td>MA</td>\n",
       "      <td>Suffolk County</td>\n",
       "      <td>Massachusetts</td>\n",
       "      <td>CT</td>\n",
       "      <td>243271</td>\n",
       "      <td>0</td>\n",
       "      <td>POLYGON ((-71.040029 42.37865, -71.03921099999...</td>\n",
       "    </tr>\n",
       "    <tr>\n",
       "      <th>3</th>\n",
       "      <td>17</td>\n",
       "      <td>031</td>\n",
       "      <td>230200</td>\n",
       "      <td>1400000US17031230200</td>\n",
       "      <td>17031230200</td>\n",
       "      <td>2302</td>\n",
       "      <td>Census Tract 2302</td>\n",
       "      <td>IL</td>\n",
       "      <td>Cook County</td>\n",
       "      <td>Illinois</td>\n",
       "      <td>CT</td>\n",
       "      <td>214283</td>\n",
       "      <td>0</td>\n",
       "      <td>POLYGON ((-87.71341700000001 41.913589, -87.71...</td>\n",
       "    </tr>\n",
       "    <tr>\n",
       "      <th>4</th>\n",
       "      <td>41</td>\n",
       "      <td>047</td>\n",
       "      <td>001607</td>\n",
       "      <td>1400000US41047001607</td>\n",
       "      <td>41047001607</td>\n",
       "      <td>16.07</td>\n",
       "      <td>Census Tract 16.07</td>\n",
       "      <td>OR</td>\n",
       "      <td>Marion County</td>\n",
       "      <td>Oregon</td>\n",
       "      <td>CT</td>\n",
       "      <td>1814790</td>\n",
       "      <td>0</td>\n",
       "      <td>POLYGON ((-122.990318 44.968214, -122.987853 4...</td>\n",
       "    </tr>\n",
       "  </tbody>\n",
       "</table>\n",
       "</div>"
      ],
      "text/plain": [
       "  STATEFP COUNTYFP TRACTCE              AFFGEOID        GEOID    NAME  \\\n",
       "0      13      163  960300  1400000US13163960300  13163960300    9603   \n",
       "1      37      109  071201  1400000US37109071201  37109071201  712.01   \n",
       "2      25      025  050200  1400000US25025050200  25025050200     502   \n",
       "3      17      031  230200  1400000US17031230200  17031230200    2302   \n",
       "4      41      047  001607  1400000US41047001607  41047001607   16.07   \n",
       "\n",
       "              NAMELSAD STUSPS        NAMELSADCO      STATE_NAME LSAD  \\\n",
       "0    Census Tract 9603     GA  Jefferson County         Georgia   CT   \n",
       "1  Census Tract 712.01     NC    Lincoln County  North Carolina   CT   \n",
       "2     Census Tract 502     MA    Suffolk County   Massachusetts   CT   \n",
       "3    Census Tract 2302     IL       Cook County        Illinois   CT   \n",
       "4   Census Tract 16.07     OR     Marion County          Oregon   CT   \n",
       "\n",
       "       ALAND   AWATER                                           geometry  \n",
       "0  564728206  4845400  POLYGON ((-82.661917 33.126331, -82.651937 33....  \n",
       "1    5976613  6611763  POLYGON ((-80.993444 35.478784, -80.9914239999...  \n",
       "2     243271        0  POLYGON ((-71.040029 42.37865, -71.03921099999...  \n",
       "3     214283        0  POLYGON ((-87.71341700000001 41.913589, -87.71...  \n",
       "4    1814790        0  POLYGON ((-122.990318 44.968214, -122.987853 4...  "
      ]
     },
     "execution_count": 55,
     "metadata": {},
     "output_type": "execute_result"
    }
   ],
   "source": [
    "ur_files = ddf.read_csv('cb_2021_us_tract_500k.csv', dtype = {'STATEFP': str, 'COUNTYFP': str, 'TRACTCE': str, 'NAME': str, 'NAMELSAD': str})\n",
    "census = ur_files.compute()\n",
    "census.head()"
   ]
  },
  {
   "cell_type": "code",
   "execution_count": 56,
   "id": "bbc0f0af-cf83-4dcd-b5b7-28bd0a44ab28",
   "metadata": {},
   "outputs": [
    {
     "data": {
      "text/html": [
       "<div>\n",
       "<style scoped>\n",
       "    .dataframe tbody tr th:only-of-type {\n",
       "        vertical-align: middle;\n",
       "    }\n",
       "\n",
       "    .dataframe tbody tr th {\n",
       "        vertical-align: top;\n",
       "    }\n",
       "\n",
       "    .dataframe thead th {\n",
       "        text-align: right;\n",
       "    }\n",
       "</style>\n",
       "<table border=\"1\" class=\"dataframe\">\n",
       "  <thead>\n",
       "    <tr style=\"text-align: right;\">\n",
       "      <th></th>\n",
       "      <th>STATEFP</th>\n",
       "      <th>COUNTYFP</th>\n",
       "      <th>TRACTCE</th>\n",
       "      <th>AFFGEOID</th>\n",
       "      <th>GEOID</th>\n",
       "      <th>NAME</th>\n",
       "      <th>NAMELSAD</th>\n",
       "      <th>STUSPS</th>\n",
       "      <th>NAMELSADCO</th>\n",
       "      <th>STATE_NAME</th>\n",
       "      <th>LSAD</th>\n",
       "      <th>ALAND</th>\n",
       "      <th>AWATER</th>\n",
       "      <th>geometry</th>\n",
       "      <th>CENSUS_FIPS</th>\n",
       "    </tr>\n",
       "  </thead>\n",
       "  <tbody>\n",
       "    <tr>\n",
       "      <th>0</th>\n",
       "      <td>13</td>\n",
       "      <td>163</td>\n",
       "      <td>960300</td>\n",
       "      <td>1400000US13163960300</td>\n",
       "      <td>13163960300</td>\n",
       "      <td>9603</td>\n",
       "      <td>Census Tract 9603</td>\n",
       "      <td>GA</td>\n",
       "      <td>Jefferson County</td>\n",
       "      <td>Georgia</td>\n",
       "      <td>CT</td>\n",
       "      <td>564728206</td>\n",
       "      <td>4845400</td>\n",
       "      <td>POLYGON ((-82.661917 33.126331, -82.651937 33....</td>\n",
       "      <td>13163960300</td>\n",
       "    </tr>\n",
       "    <tr>\n",
       "      <th>1</th>\n",
       "      <td>37</td>\n",
       "      <td>109</td>\n",
       "      <td>071201</td>\n",
       "      <td>1400000US37109071201</td>\n",
       "      <td>37109071201</td>\n",
       "      <td>712.01</td>\n",
       "      <td>Census Tract 712.01</td>\n",
       "      <td>NC</td>\n",
       "      <td>Lincoln County</td>\n",
       "      <td>North Carolina</td>\n",
       "      <td>CT</td>\n",
       "      <td>5976613</td>\n",
       "      <td>6611763</td>\n",
       "      <td>POLYGON ((-80.993444 35.478784, -80.9914239999...</td>\n",
       "      <td>37109071201</td>\n",
       "    </tr>\n",
       "    <tr>\n",
       "      <th>2</th>\n",
       "      <td>25</td>\n",
       "      <td>025</td>\n",
       "      <td>050200</td>\n",
       "      <td>1400000US25025050200</td>\n",
       "      <td>25025050200</td>\n",
       "      <td>502</td>\n",
       "      <td>Census Tract 502</td>\n",
       "      <td>MA</td>\n",
       "      <td>Suffolk County</td>\n",
       "      <td>Massachusetts</td>\n",
       "      <td>CT</td>\n",
       "      <td>243271</td>\n",
       "      <td>0</td>\n",
       "      <td>POLYGON ((-71.040029 42.37865, -71.03921099999...</td>\n",
       "      <td>25025050200</td>\n",
       "    </tr>\n",
       "    <tr>\n",
       "      <th>3</th>\n",
       "      <td>17</td>\n",
       "      <td>031</td>\n",
       "      <td>230200</td>\n",
       "      <td>1400000US17031230200</td>\n",
       "      <td>17031230200</td>\n",
       "      <td>2302</td>\n",
       "      <td>Census Tract 2302</td>\n",
       "      <td>IL</td>\n",
       "      <td>Cook County</td>\n",
       "      <td>Illinois</td>\n",
       "      <td>CT</td>\n",
       "      <td>214283</td>\n",
       "      <td>0</td>\n",
       "      <td>POLYGON ((-87.71341700000001 41.913589, -87.71...</td>\n",
       "      <td>17031230200</td>\n",
       "    </tr>\n",
       "    <tr>\n",
       "      <th>4</th>\n",
       "      <td>41</td>\n",
       "      <td>047</td>\n",
       "      <td>001607</td>\n",
       "      <td>1400000US41047001607</td>\n",
       "      <td>41047001607</td>\n",
       "      <td>16.07</td>\n",
       "      <td>Census Tract 16.07</td>\n",
       "      <td>OR</td>\n",
       "      <td>Marion County</td>\n",
       "      <td>Oregon</td>\n",
       "      <td>CT</td>\n",
       "      <td>1814790</td>\n",
       "      <td>0</td>\n",
       "      <td>POLYGON ((-122.990318 44.968214, -122.987853 4...</td>\n",
       "      <td>41047001607</td>\n",
       "    </tr>\n",
       "  </tbody>\n",
       "</table>\n",
       "</div>"
      ],
      "text/plain": [
       "  STATEFP COUNTYFP TRACTCE              AFFGEOID        GEOID    NAME  \\\n",
       "0      13      163  960300  1400000US13163960300  13163960300    9603   \n",
       "1      37      109  071201  1400000US37109071201  37109071201  712.01   \n",
       "2      25      025  050200  1400000US25025050200  25025050200     502   \n",
       "3      17      031  230200  1400000US17031230200  17031230200    2302   \n",
       "4      41      047  001607  1400000US41047001607  41047001607   16.07   \n",
       "\n",
       "              NAMELSAD STUSPS        NAMELSADCO      STATE_NAME LSAD  \\\n",
       "0    Census Tract 9603     GA  Jefferson County         Georgia   CT   \n",
       "1  Census Tract 712.01     NC    Lincoln County  North Carolina   CT   \n",
       "2     Census Tract 502     MA    Suffolk County   Massachusetts   CT   \n",
       "3    Census Tract 2302     IL       Cook County        Illinois   CT   \n",
       "4   Census Tract 16.07     OR     Marion County          Oregon   CT   \n",
       "\n",
       "       ALAND   AWATER                                           geometry  \\\n",
       "0  564728206  4845400  POLYGON ((-82.661917 33.126331, -82.651937 33....   \n",
       "1    5976613  6611763  POLYGON ((-80.993444 35.478784, -80.9914239999...   \n",
       "2     243271        0  POLYGON ((-71.040029 42.37865, -71.03921099999...   \n",
       "3     214283        0  POLYGON ((-87.71341700000001 41.913589, -87.71...   \n",
       "4    1814790        0  POLYGON ((-122.990318 44.968214, -122.987853 4...   \n",
       "\n",
       "   CENSUS_FIPS  \n",
       "0  13163960300  \n",
       "1  37109071201  \n",
       "2  25025050200  \n",
       "3  17031230200  \n",
       "4  41047001607  "
      ]
     },
     "execution_count": 56,
     "metadata": {},
     "output_type": "execute_result"
    }
   ],
   "source": [
    "census['CENSUS_FIPS'] = census['STATEFP'] + census['COUNTYFP'] + census['TRACTCE']\n",
    "census.head()"
   ]
  },
  {
   "cell_type": "code",
   "execution_count": 57,
   "id": "79722555-17f9-4d0e-99c9-544866819e20",
   "metadata": {},
   "outputs": [],
   "source": [
    "from shapely import wkt"
   ]
  },
  {
   "cell_type": "code",
   "execution_count": 58,
   "id": "aa5e7dd2-c049-4d50-9308-418ac94eab33",
   "metadata": {},
   "outputs": [],
   "source": [
    "def findCentroid(g):\n",
    "    p1 = wkt.loads(g)\n",
    "    return p1.centroid.wkt"
   ]
  },
  {
   "cell_type": "code",
   "execution_count": 59,
   "id": "f6d5d7f0-80a7-4ed7-8b36-b705bb9a0726",
   "metadata": {},
   "outputs": [],
   "source": [
    "census['Centroid'] = census['geometry'].apply(findCentroid)"
   ]
  },
  {
   "cell_type": "code",
   "execution_count": 60,
   "id": "95460950-01d9-465e-a5f3-6a019487af3b",
   "metadata": {},
   "outputs": [
    {
     "data": {
      "text/html": [
       "<div>\n",
       "<style scoped>\n",
       "    .dataframe tbody tr th:only-of-type {\n",
       "        vertical-align: middle;\n",
       "    }\n",
       "\n",
       "    .dataframe tbody tr th {\n",
       "        vertical-align: top;\n",
       "    }\n",
       "\n",
       "    .dataframe thead th {\n",
       "        text-align: right;\n",
       "    }\n",
       "</style>\n",
       "<table border=\"1\" class=\"dataframe\">\n",
       "  <thead>\n",
       "    <tr style=\"text-align: right;\">\n",
       "      <th></th>\n",
       "      <th>STATEFP</th>\n",
       "      <th>COUNTYFP</th>\n",
       "      <th>TRACTCE</th>\n",
       "      <th>AFFGEOID</th>\n",
       "      <th>GEOID</th>\n",
       "      <th>NAME</th>\n",
       "      <th>NAMELSAD</th>\n",
       "      <th>STUSPS</th>\n",
       "      <th>NAMELSADCO</th>\n",
       "      <th>STATE_NAME</th>\n",
       "      <th>LSAD</th>\n",
       "      <th>ALAND</th>\n",
       "      <th>AWATER</th>\n",
       "      <th>geometry</th>\n",
       "      <th>CENSUS_FIPS</th>\n",
       "      <th>Centroid</th>\n",
       "    </tr>\n",
       "  </thead>\n",
       "  <tbody>\n",
       "    <tr>\n",
       "      <th>0</th>\n",
       "      <td>13</td>\n",
       "      <td>163</td>\n",
       "      <td>960300</td>\n",
       "      <td>1400000US13163960300</td>\n",
       "      <td>13163960300</td>\n",
       "      <td>9603</td>\n",
       "      <td>Census Tract 9603</td>\n",
       "      <td>GA</td>\n",
       "      <td>Jefferson County</td>\n",
       "      <td>Georgia</td>\n",
       "      <td>CT</td>\n",
       "      <td>564728206</td>\n",
       "      <td>4845400</td>\n",
       "      <td>POLYGON ((-82.661917 33.126331, -82.651937 33....</td>\n",
       "      <td>13163960300</td>\n",
       "      <td>POINT (-82.42777455266631 33.02009497835021)</td>\n",
       "    </tr>\n",
       "    <tr>\n",
       "      <th>1</th>\n",
       "      <td>37</td>\n",
       "      <td>109</td>\n",
       "      <td>071201</td>\n",
       "      <td>1400000US37109071201</td>\n",
       "      <td>37109071201</td>\n",
       "      <td>712.01</td>\n",
       "      <td>Census Tract 712.01</td>\n",
       "      <td>NC</td>\n",
       "      <td>Lincoln County</td>\n",
       "      <td>North Carolina</td>\n",
       "      <td>CT</td>\n",
       "      <td>5976613</td>\n",
       "      <td>6611763</td>\n",
       "      <td>POLYGON ((-80.993444 35.478784, -80.9914239999...</td>\n",
       "      <td>37109071201</td>\n",
       "      <td>POINT (-80.9680558426884 35.45990205837115)</td>\n",
       "    </tr>\n",
       "    <tr>\n",
       "      <th>2</th>\n",
       "      <td>25</td>\n",
       "      <td>025</td>\n",
       "      <td>050200</td>\n",
       "      <td>1400000US25025050200</td>\n",
       "      <td>25025050200</td>\n",
       "      <td>502</td>\n",
       "      <td>Census Tract 502</td>\n",
       "      <td>MA</td>\n",
       "      <td>Suffolk County</td>\n",
       "      <td>Massachusetts</td>\n",
       "      <td>CT</td>\n",
       "      <td>243271</td>\n",
       "      <td>0</td>\n",
       "      <td>POLYGON ((-71.040029 42.37865, -71.03921099999...</td>\n",
       "      <td>25025050200</td>\n",
       "      <td>POINT (-71.03573713399868 42.37754679162973)</td>\n",
       "    </tr>\n",
       "    <tr>\n",
       "      <th>3</th>\n",
       "      <td>17</td>\n",
       "      <td>031</td>\n",
       "      <td>230200</td>\n",
       "      <td>1400000US17031230200</td>\n",
       "      <td>17031230200</td>\n",
       "      <td>2302</td>\n",
       "      <td>Census Tract 2302</td>\n",
       "      <td>IL</td>\n",
       "      <td>Cook County</td>\n",
       "      <td>Illinois</td>\n",
       "      <td>CT</td>\n",
       "      <td>214283</td>\n",
       "      <td>0</td>\n",
       "      <td>POLYGON ((-87.71341700000001 41.913589, -87.71...</td>\n",
       "      <td>17031230200</td>\n",
       "      <td>POINT (-87.71008151357118 41.91187356531011)</td>\n",
       "    </tr>\n",
       "    <tr>\n",
       "      <th>4</th>\n",
       "      <td>41</td>\n",
       "      <td>047</td>\n",
       "      <td>001607</td>\n",
       "      <td>1400000US41047001607</td>\n",
       "      <td>41047001607</td>\n",
       "      <td>16.07</td>\n",
       "      <td>Census Tract 16.07</td>\n",
       "      <td>OR</td>\n",
       "      <td>Marion County</td>\n",
       "      <td>Oregon</td>\n",
       "      <td>CT</td>\n",
       "      <td>1814790</td>\n",
       "      <td>0</td>\n",
       "      <td>POLYGON ((-122.990318 44.968214, -122.987853 4...</td>\n",
       "      <td>41047001607</td>\n",
       "      <td>POINT (-122.9834298654585 44.96158272247879)</td>\n",
       "    </tr>\n",
       "  </tbody>\n",
       "</table>\n",
       "</div>"
      ],
      "text/plain": [
       "  STATEFP COUNTYFP TRACTCE              AFFGEOID        GEOID    NAME  \\\n",
       "0      13      163  960300  1400000US13163960300  13163960300    9603   \n",
       "1      37      109  071201  1400000US37109071201  37109071201  712.01   \n",
       "2      25      025  050200  1400000US25025050200  25025050200     502   \n",
       "3      17      031  230200  1400000US17031230200  17031230200    2302   \n",
       "4      41      047  001607  1400000US41047001607  41047001607   16.07   \n",
       "\n",
       "              NAMELSAD STUSPS        NAMELSADCO      STATE_NAME LSAD  \\\n",
       "0    Census Tract 9603     GA  Jefferson County         Georgia   CT   \n",
       "1  Census Tract 712.01     NC    Lincoln County  North Carolina   CT   \n",
       "2     Census Tract 502     MA    Suffolk County   Massachusetts   CT   \n",
       "3    Census Tract 2302     IL       Cook County        Illinois   CT   \n",
       "4   Census Tract 16.07     OR     Marion County          Oregon   CT   \n",
       "\n",
       "       ALAND   AWATER                                           geometry  \\\n",
       "0  564728206  4845400  POLYGON ((-82.661917 33.126331, -82.651937 33....   \n",
       "1    5976613  6611763  POLYGON ((-80.993444 35.478784, -80.9914239999...   \n",
       "2     243271        0  POLYGON ((-71.040029 42.37865, -71.03921099999...   \n",
       "3     214283        0  POLYGON ((-87.71341700000001 41.913589, -87.71...   \n",
       "4    1814790        0  POLYGON ((-122.990318 44.968214, -122.987853 4...   \n",
       "\n",
       "   CENSUS_FIPS                                      Centroid  \n",
       "0  13163960300  POINT (-82.42777455266631 33.02009497835021)  \n",
       "1  37109071201   POINT (-80.9680558426884 35.45990205837115)  \n",
       "2  25025050200  POINT (-71.03573713399868 42.37754679162973)  \n",
       "3  17031230200  POINT (-87.71008151357118 41.91187356531011)  \n",
       "4  41047001607  POINT (-122.9834298654585 44.96158272247879)  "
      ]
     },
     "execution_count": 60,
     "metadata": {},
     "output_type": "execute_result"
    }
   ],
   "source": [
    "census.head()"
   ]
  },
  {
   "cell_type": "code",
   "execution_count": 61,
   "id": "9c937741-cfdb-4dfc-9a9a-60b7e1b8735f",
   "metadata": {},
   "outputs": [],
   "source": [
    "coordinateList = census['Centroid'].tolist()"
   ]
  },
  {
   "cell_type": "code",
   "execution_count": 62,
   "id": "8e84b9c4-4f52-4320-ad59-9ddd26c9e262",
   "metadata": {},
   "outputs": [],
   "source": [
    "def findLon(point):\n",
    "    strList = point.split(' ')\n",
    "    lon = strList[1][1:]\n",
    "    lon = float(lon)\n",
    "    return lon"
   ]
  },
  {
   "cell_type": "code",
   "execution_count": 63,
   "id": "d5a5c4aa-4ee6-40df-b587-4324cd7593f3",
   "metadata": {},
   "outputs": [],
   "source": [
    "def findLat(point):\n",
    "    strList = point.split(' ')\n",
    "    lat = strList[2][:-1]\n",
    "    lat = float(lat)\n",
    "    return lat"
   ]
  },
  {
   "cell_type": "code",
   "execution_count": 64,
   "id": "81c24d91-5682-49bb-a724-6a5815e30fa0",
   "metadata": {},
   "outputs": [],
   "source": [
    "census['lat'] = census['Centroid'].apply(findLat)\n",
    "census['lon'] = census['Centroid'].apply(findLon)"
   ]
  },
  {
   "cell_type": "code",
   "execution_count": 65,
   "id": "613b9e08-2a88-4c75-a746-3659424129da",
   "metadata": {},
   "outputs": [
    {
     "data": {
      "text/html": [
       "<div>\n",
       "<style scoped>\n",
       "    .dataframe tbody tr th:only-of-type {\n",
       "        vertical-align: middle;\n",
       "    }\n",
       "\n",
       "    .dataframe tbody tr th {\n",
       "        vertical-align: top;\n",
       "    }\n",
       "\n",
       "    .dataframe thead th {\n",
       "        text-align: right;\n",
       "    }\n",
       "</style>\n",
       "<table border=\"1\" class=\"dataframe\">\n",
       "  <thead>\n",
       "    <tr style=\"text-align: right;\">\n",
       "      <th></th>\n",
       "      <th>STATEFP</th>\n",
       "      <th>COUNTYFP</th>\n",
       "      <th>TRACTCE</th>\n",
       "      <th>AFFGEOID</th>\n",
       "      <th>GEOID</th>\n",
       "      <th>NAME</th>\n",
       "      <th>NAMELSAD</th>\n",
       "      <th>STUSPS</th>\n",
       "      <th>NAMELSADCO</th>\n",
       "      <th>STATE_NAME</th>\n",
       "      <th>LSAD</th>\n",
       "      <th>ALAND</th>\n",
       "      <th>AWATER</th>\n",
       "      <th>geometry</th>\n",
       "      <th>CENSUS_FIPS</th>\n",
       "      <th>Centroid</th>\n",
       "      <th>lat</th>\n",
       "      <th>lon</th>\n",
       "    </tr>\n",
       "  </thead>\n",
       "  <tbody>\n",
       "    <tr>\n",
       "      <th>0</th>\n",
       "      <td>13</td>\n",
       "      <td>163</td>\n",
       "      <td>960300</td>\n",
       "      <td>1400000US13163960300</td>\n",
       "      <td>13163960300</td>\n",
       "      <td>9603</td>\n",
       "      <td>Census Tract 9603</td>\n",
       "      <td>GA</td>\n",
       "      <td>Jefferson County</td>\n",
       "      <td>Georgia</td>\n",
       "      <td>CT</td>\n",
       "      <td>564728206</td>\n",
       "      <td>4845400</td>\n",
       "      <td>POLYGON ((-82.661917 33.126331, -82.651937 33....</td>\n",
       "      <td>13163960300</td>\n",
       "      <td>POINT (-82.42777455266631 33.02009497835021)</td>\n",
       "      <td>33.020095</td>\n",
       "      <td>-82.427775</td>\n",
       "    </tr>\n",
       "    <tr>\n",
       "      <th>1</th>\n",
       "      <td>37</td>\n",
       "      <td>109</td>\n",
       "      <td>071201</td>\n",
       "      <td>1400000US37109071201</td>\n",
       "      <td>37109071201</td>\n",
       "      <td>712.01</td>\n",
       "      <td>Census Tract 712.01</td>\n",
       "      <td>NC</td>\n",
       "      <td>Lincoln County</td>\n",
       "      <td>North Carolina</td>\n",
       "      <td>CT</td>\n",
       "      <td>5976613</td>\n",
       "      <td>6611763</td>\n",
       "      <td>POLYGON ((-80.993444 35.478784, -80.9914239999...</td>\n",
       "      <td>37109071201</td>\n",
       "      <td>POINT (-80.9680558426884 35.45990205837115)</td>\n",
       "      <td>35.459902</td>\n",
       "      <td>-80.968056</td>\n",
       "    </tr>\n",
       "    <tr>\n",
       "      <th>2</th>\n",
       "      <td>25</td>\n",
       "      <td>025</td>\n",
       "      <td>050200</td>\n",
       "      <td>1400000US25025050200</td>\n",
       "      <td>25025050200</td>\n",
       "      <td>502</td>\n",
       "      <td>Census Tract 502</td>\n",
       "      <td>MA</td>\n",
       "      <td>Suffolk County</td>\n",
       "      <td>Massachusetts</td>\n",
       "      <td>CT</td>\n",
       "      <td>243271</td>\n",
       "      <td>0</td>\n",
       "      <td>POLYGON ((-71.040029 42.37865, -71.03921099999...</td>\n",
       "      <td>25025050200</td>\n",
       "      <td>POINT (-71.03573713399868 42.37754679162973)</td>\n",
       "      <td>42.377547</td>\n",
       "      <td>-71.035737</td>\n",
       "    </tr>\n",
       "    <tr>\n",
       "      <th>3</th>\n",
       "      <td>17</td>\n",
       "      <td>031</td>\n",
       "      <td>230200</td>\n",
       "      <td>1400000US17031230200</td>\n",
       "      <td>17031230200</td>\n",
       "      <td>2302</td>\n",
       "      <td>Census Tract 2302</td>\n",
       "      <td>IL</td>\n",
       "      <td>Cook County</td>\n",
       "      <td>Illinois</td>\n",
       "      <td>CT</td>\n",
       "      <td>214283</td>\n",
       "      <td>0</td>\n",
       "      <td>POLYGON ((-87.71341700000001 41.913589, -87.71...</td>\n",
       "      <td>17031230200</td>\n",
       "      <td>POINT (-87.71008151357118 41.91187356531011)</td>\n",
       "      <td>41.911874</td>\n",
       "      <td>-87.710082</td>\n",
       "    </tr>\n",
       "    <tr>\n",
       "      <th>4</th>\n",
       "      <td>41</td>\n",
       "      <td>047</td>\n",
       "      <td>001607</td>\n",
       "      <td>1400000US41047001607</td>\n",
       "      <td>41047001607</td>\n",
       "      <td>16.07</td>\n",
       "      <td>Census Tract 16.07</td>\n",
       "      <td>OR</td>\n",
       "      <td>Marion County</td>\n",
       "      <td>Oregon</td>\n",
       "      <td>CT</td>\n",
       "      <td>1814790</td>\n",
       "      <td>0</td>\n",
       "      <td>POLYGON ((-122.990318 44.968214, -122.987853 4...</td>\n",
       "      <td>41047001607</td>\n",
       "      <td>POINT (-122.9834298654585 44.96158272247879)</td>\n",
       "      <td>44.961583</td>\n",
       "      <td>-122.983430</td>\n",
       "    </tr>\n",
       "  </tbody>\n",
       "</table>\n",
       "</div>"
      ],
      "text/plain": [
       "  STATEFP COUNTYFP TRACTCE              AFFGEOID        GEOID    NAME  \\\n",
       "0      13      163  960300  1400000US13163960300  13163960300    9603   \n",
       "1      37      109  071201  1400000US37109071201  37109071201  712.01   \n",
       "2      25      025  050200  1400000US25025050200  25025050200     502   \n",
       "3      17      031  230200  1400000US17031230200  17031230200    2302   \n",
       "4      41      047  001607  1400000US41047001607  41047001607   16.07   \n",
       "\n",
       "              NAMELSAD STUSPS        NAMELSADCO      STATE_NAME LSAD  \\\n",
       "0    Census Tract 9603     GA  Jefferson County         Georgia   CT   \n",
       "1  Census Tract 712.01     NC    Lincoln County  North Carolina   CT   \n",
       "2     Census Tract 502     MA    Suffolk County   Massachusetts   CT   \n",
       "3    Census Tract 2302     IL       Cook County        Illinois   CT   \n",
       "4   Census Tract 16.07     OR     Marion County          Oregon   CT   \n",
       "\n",
       "       ALAND   AWATER                                           geometry  \\\n",
       "0  564728206  4845400  POLYGON ((-82.661917 33.126331, -82.651937 33....   \n",
       "1    5976613  6611763  POLYGON ((-80.993444 35.478784, -80.9914239999...   \n",
       "2     243271        0  POLYGON ((-71.040029 42.37865, -71.03921099999...   \n",
       "3     214283        0  POLYGON ((-87.71341700000001 41.913589, -87.71...   \n",
       "4    1814790        0  POLYGON ((-122.990318 44.968214, -122.987853 4...   \n",
       "\n",
       "   CENSUS_FIPS                                      Centroid        lat  \\\n",
       "0  13163960300  POINT (-82.42777455266631 33.02009497835021)  33.020095   \n",
       "1  37109071201   POINT (-80.9680558426884 35.45990205837115)  35.459902   \n",
       "2  25025050200  POINT (-71.03573713399868 42.37754679162973)  42.377547   \n",
       "3  17031230200  POINT (-87.71008151357118 41.91187356531011)  41.911874   \n",
       "4  41047001607  POINT (-122.9834298654585 44.96158272247879)  44.961583   \n",
       "\n",
       "          lon  \n",
       "0  -82.427775  \n",
       "1  -80.968056  \n",
       "2  -71.035737  \n",
       "3  -87.710082  \n",
       "4 -122.983430  "
      ]
     },
     "execution_count": 65,
     "metadata": {},
     "output_type": "execute_result"
    }
   ],
   "source": [
    "census.head()"
   ]
  },
  {
   "cell_type": "code",
   "execution_count": 66,
   "id": "aabcb1e0-d926-4a73-855b-9541744e977c",
   "metadata": {},
   "outputs": [
    {
     "data": {
      "text/html": [
       "<div>\n",
       "<style scoped>\n",
       "    .dataframe tbody tr th:only-of-type {\n",
       "        vertical-align: middle;\n",
       "    }\n",
       "\n",
       "    .dataframe tbody tr th {\n",
       "        vertical-align: top;\n",
       "    }\n",
       "\n",
       "    .dataframe thead th {\n",
       "        text-align: right;\n",
       "    }\n",
       "</style>\n",
       "<table border=\"1\" class=\"dataframe\">\n",
       "  <thead>\n",
       "    <tr style=\"text-align: right;\">\n",
       "      <th></th>\n",
       "      <th>index</th>\n",
       "      <th>row</th>\n",
       "      <th>col</th>\n",
       "      <th>PM2.5</th>\n",
       "      <th>x</th>\n",
       "      <th>y</th>\n",
       "      <th>coordinate</th>\n",
       "      <th>ID</th>\n",
       "      <th>ID_Coordinate</th>\n",
       "    </tr>\n",
       "  </thead>\n",
       "  <tbody>\n",
       "    <tr>\n",
       "      <th>0</th>\n",
       "      <td>0</td>\n",
       "      <td>0</td>\n",
       "      <td>0</td>\n",
       "      <td>-3.400000e+38</td>\n",
       "      <td>0.0</td>\n",
       "      <td>0.0</td>\n",
       "      <td>[49.0, -125.0]</td>\n",
       "      <td>000000</td>\n",
       "      <td>[000000, 49.0, -125.0]</td>\n",
       "    </tr>\n",
       "    <tr>\n",
       "      <th>1</th>\n",
       "      <td>100</td>\n",
       "      <td>0</td>\n",
       "      <td>100</td>\n",
       "      <td>-3.400000e+38</td>\n",
       "      <td>100.0</td>\n",
       "      <td>0.0</td>\n",
       "      <td>[49.0, -123.63074641869761]</td>\n",
       "      <td>000001</td>\n",
       "      <td>[000001, 49.0, -123.63074641869761]</td>\n",
       "    </tr>\n",
       "    <tr>\n",
       "      <th>2</th>\n",
       "      <td>200</td>\n",
       "      <td>0</td>\n",
       "      <td>200</td>\n",
       "      <td>-3.400000e+38</td>\n",
       "      <td>200.0</td>\n",
       "      <td>0.0</td>\n",
       "      <td>[49.0, -122.26149283739524]</td>\n",
       "      <td>000002</td>\n",
       "      <td>[000002, 49.0, -122.26149283739524]</td>\n",
       "    </tr>\n",
       "    <tr>\n",
       "      <th>3</th>\n",
       "      <td>300</td>\n",
       "      <td>0</td>\n",
       "      <td>300</td>\n",
       "      <td>-3.400000e+38</td>\n",
       "      <td>300.0</td>\n",
       "      <td>0.0</td>\n",
       "      <td>[49.0, -120.89223925609285]</td>\n",
       "      <td>000003</td>\n",
       "      <td>[000003, 49.0, -120.89223925609285]</td>\n",
       "    </tr>\n",
       "    <tr>\n",
       "      <th>4</th>\n",
       "      <td>400</td>\n",
       "      <td>0</td>\n",
       "      <td>400</td>\n",
       "      <td>-3.400000e+38</td>\n",
       "      <td>400.0</td>\n",
       "      <td>0.0</td>\n",
       "      <td>[49.0, -119.52298567479046]</td>\n",
       "      <td>000004</td>\n",
       "      <td>[000004, 49.0, -119.52298567479046]</td>\n",
       "    </tr>\n",
       "  </tbody>\n",
       "</table>\n",
       "</div>"
      ],
      "text/plain": [
       "   index  row  col         PM2.5      x    y                   coordinate  \\\n",
       "0      0    0    0 -3.400000e+38    0.0  0.0               [49.0, -125.0]   \n",
       "1    100    0  100 -3.400000e+38  100.0  0.0  [49.0, -123.63074641869761]   \n",
       "2    200    0  200 -3.400000e+38  200.0  0.0  [49.0, -122.26149283739524]   \n",
       "3    300    0  300 -3.400000e+38  300.0  0.0  [49.0, -120.89223925609285]   \n",
       "4    400    0  400 -3.400000e+38  400.0  0.0  [49.0, -119.52298567479046]   \n",
       "\n",
       "       ID                        ID_Coordinate  \n",
       "0  000000               [000000, 49.0, -125.0]  \n",
       "1  000001  [000001, 49.0, -123.63074641869761]  \n",
       "2  000002  [000002, 49.0, -122.26149283739524]  \n",
       "3  000003  [000003, 49.0, -120.89223925609285]  \n",
       "4  000004  [000004, 49.0, -119.52298567479046]  "
      ]
     },
     "execution_count": 66,
     "metadata": {},
     "output_type": "execute_result"
    }
   ],
   "source": [
    "pm_16.head()"
   ]
  },
  {
   "cell_type": "code",
   "execution_count": 67,
   "id": "efbd1a00-f274-408f-b64d-ee490baca97e",
   "metadata": {},
   "outputs": [
    {
     "data": {
      "text/html": [
       "<div>\n",
       "<style scoped>\n",
       "    .dataframe tbody tr th:only-of-type {\n",
       "        vertical-align: middle;\n",
       "    }\n",
       "\n",
       "    .dataframe tbody tr th {\n",
       "        vertical-align: top;\n",
       "    }\n",
       "\n",
       "    .dataframe thead th {\n",
       "        text-align: right;\n",
       "    }\n",
       "</style>\n",
       "<table border=\"1\" class=\"dataframe\">\n",
       "  <thead>\n",
       "    <tr style=\"text-align: right;\">\n",
       "      <th></th>\n",
       "      <th>index</th>\n",
       "      <th>row</th>\n",
       "      <th>col</th>\n",
       "      <th>PM2.5</th>\n",
       "      <th>x</th>\n",
       "      <th>y</th>\n",
       "      <th>coordinate</th>\n",
       "      <th>ID</th>\n",
       "      <th>ID_Coordinate</th>\n",
       "    </tr>\n",
       "  </thead>\n",
       "  <tbody>\n",
       "    <tr>\n",
       "      <th>125899</th>\n",
       "      <td>12589900</td>\n",
       "      <td>2890</td>\n",
       "      <td>3950</td>\n",
       "      <td>-3.400000e+38</td>\n",
       "      <td>3950.0</td>\n",
       "      <td>2890.0</td>\n",
       "      <td>[22.863656917539384, -86.49114669848854]</td>\n",
       "      <td>125899</td>\n",
       "      <td>[125899, 22.863656917539384, -86.49114669848854]</td>\n",
       "    </tr>\n",
       "    <tr>\n",
       "      <th>125900</th>\n",
       "      <td>12590000</td>\n",
       "      <td>2890</td>\n",
       "      <td>4050</td>\n",
       "      <td>-3.400000e+38</td>\n",
       "      <td>4050.0</td>\n",
       "      <td>2890.0</td>\n",
       "      <td>[22.863656917539384, -85.51623901996926]</td>\n",
       "      <td>125900</td>\n",
       "      <td>[125900, 22.863656917539384, -85.51623901996926]</td>\n",
       "    </tr>\n",
       "    <tr>\n",
       "      <th>125901</th>\n",
       "      <td>12590100</td>\n",
       "      <td>2890</td>\n",
       "      <td>4150</td>\n",
       "      <td>-3.400000e+38</td>\n",
       "      <td>4150.0</td>\n",
       "      <td>2890.0</td>\n",
       "      <td>[22.863656917539384, -84.54133134144999]</td>\n",
       "      <td>125901</td>\n",
       "      <td>[125901, 22.863656917539384, -84.54133134144999]</td>\n",
       "    </tr>\n",
       "    <tr>\n",
       "      <th>125902</th>\n",
       "      <td>12590200</td>\n",
       "      <td>2890</td>\n",
       "      <td>4250</td>\n",
       "      <td>-3.400000e+38</td>\n",
       "      <td>4250.0</td>\n",
       "      <td>2890.0</td>\n",
       "      <td>[22.863656917539384, -83.5664236629307]</td>\n",
       "      <td>125902</td>\n",
       "      <td>[125902, 22.863656917539384, -83.5664236629307]</td>\n",
       "    </tr>\n",
       "    <tr>\n",
       "      <th>125903</th>\n",
       "      <td>12590300</td>\n",
       "      <td>2890</td>\n",
       "      <td>4350</td>\n",
       "      <td>-3.400000e+38</td>\n",
       "      <td>4350.0</td>\n",
       "      <td>2890.0</td>\n",
       "      <td>[22.863656917539384, -82.59151598441143]</td>\n",
       "      <td>125903</td>\n",
       "      <td>[125903, 22.863656917539384, -82.59151598441143]</td>\n",
       "    </tr>\n",
       "  </tbody>\n",
       "</table>\n",
       "</div>"
      ],
      "text/plain": [
       "           index   row   col         PM2.5       x       y  \\\n",
       "125899  12589900  2890  3950 -3.400000e+38  3950.0  2890.0   \n",
       "125900  12590000  2890  4050 -3.400000e+38  4050.0  2890.0   \n",
       "125901  12590100  2890  4150 -3.400000e+38  4150.0  2890.0   \n",
       "125902  12590200  2890  4250 -3.400000e+38  4250.0  2890.0   \n",
       "125903  12590300  2890  4350 -3.400000e+38  4350.0  2890.0   \n",
       "\n",
       "                                      coordinate      ID  \\\n",
       "125899  [22.863656917539384, -86.49114669848854]  125899   \n",
       "125900  [22.863656917539384, -85.51623901996926]  125900   \n",
       "125901  [22.863656917539384, -84.54133134144999]  125901   \n",
       "125902   [22.863656917539384, -83.5664236629307]  125902   \n",
       "125903  [22.863656917539384, -82.59151598441143]  125903   \n",
       "\n",
       "                                           ID_Coordinate  \n",
       "125899  [125899, 22.863656917539384, -86.49114669848854]  \n",
       "125900  [125900, 22.863656917539384, -85.51623901996926]  \n",
       "125901  [125901, 22.863656917539384, -84.54133134144999]  \n",
       "125902   [125902, 22.863656917539384, -83.5664236629307]  \n",
       "125903  [125903, 22.863656917539384, -82.59151598441143]  "
      ]
     },
     "execution_count": 67,
     "metadata": {},
     "output_type": "execute_result"
    }
   ],
   "source": [
    "pm_16.tail()"
   ]
  },
  {
   "cell_type": "code",
   "execution_count": 68,
   "id": "5c37922d-3dab-4bf3-94d9-1b56a0b46965",
   "metadata": {},
   "outputs": [],
   "source": [
    "def dist(p0, p1):\n",
    "    return (((p0[0] - p1[0])**2) + ((p0[1] - p1[1])**2))**.5"
   ]
  },
  {
   "cell_type": "code",
   "execution_count": 69,
   "id": "3c732543-3118-4c4f-a59b-b16a3dcf5c3d",
   "metadata": {},
   "outputs": [],
   "source": [
    "pointList = pm_16['ID_Coordinate'].tolist()"
   ]
  },
  {
   "cell_type": "code",
   "execution_count": 70,
   "id": "598e436d-5a59-46b7-b801-f8ecfef706d5",
   "metadata": {},
   "outputs": [
    {
     "data": {
      "text/plain": [
       "125904"
      ]
     },
     "execution_count": 70,
     "metadata": {},
     "output_type": "execute_result"
    }
   ],
   "source": [
    "len(pointList)"
   ]
  },
  {
   "cell_type": "code",
   "execution_count": 71,
   "id": "60f67862-edfd-4fde-8e21-f4256543e93a",
   "metadata": {},
   "outputs": [
    {
     "data": {
      "text/plain": [
       "['125903', 22.863656917539384, -82.59151598441143]"
      ]
     },
     "execution_count": 71,
     "metadata": {},
     "output_type": "execute_result"
    }
   ],
   "source": [
    "pointList[-1]"
   ]
  },
  {
   "cell_type": "markdown",
   "id": "72ed72da-ef5d-4f53-b743-b96b93d4a686",
   "metadata": {},
   "source": [
    "### Find a small square with each side 200km and the center is the census tract's center"
   ]
  },
  {
   "cell_type": "code",
   "execution_count": 72,
   "id": "dec9ab75-fbf2-4f6d-9e11-40e18e1ea46d",
   "metadata": {},
   "outputs": [],
   "source": [
    "def findSquare(lat, lon):\n",
    "    square = []\n",
    "    top = lat + 0.5\n",
    "    down = lat - 0.5\n",
    "    right = lon + 0.5\n",
    "    left = lon - 0.5\n",
    "    square.append(top)\n",
    "    square.append(down)\n",
    "    square.append(left)\n",
    "    square.append(right)\n",
    "    return square"
   ]
  },
  {
   "cell_type": "code",
   "execution_count": 74,
   "id": "54d00639-732d-4335-a1b6-6f7a879cd607",
   "metadata": {},
   "outputs": [
    {
     "data": {
      "text/plain": [
       "[44.5, 43.5, -88.5, -87.5]"
      ]
     },
     "execution_count": 74,
     "metadata": {},
     "output_type": "execute_result"
    }
   ],
   "source": [
    "square1 = findSquare(44,-88)\n",
    "square1"
   ]
  },
  {
   "cell_type": "code",
   "execution_count": 75,
   "id": "990ea3ed-aa68-4c55-ac66-188da4242496",
   "metadata": {},
   "outputs": [],
   "source": [
    "def findPoints(lat, lon):\n",
    "    square = findSquare(lat, lon)\n",
    "    top = square[0]\n",
    "    down = square[1]\n",
    "    left = square[2]\n",
    "    right = square[3]\n",
    "    points = []\n",
    "    for point in pointList:\n",
    "        p_lat = point[1]\n",
    "        p_lon = point[2]\n",
    "        if point[1] <= top and point[1] >= down and point[2] >= left and point[2] <= right:\n",
    "            points.append(point)\n",
    "            \n",
    "    return points"
   ]
  },
  {
   "cell_type": "code",
   "execution_count": 76,
   "id": "1f2ca341-eeb0-4669-b106-a57dc42a4f34",
   "metadata": {},
   "outputs": [],
   "source": [
    "points = findPoints(42, -88)"
   ]
  },
  {
   "cell_type": "code",
   "execution_count": 77,
   "id": "faab6c4c-0d9e-4c24-b757-21dc13533760",
   "metadata": {},
   "outputs": [
    {
     "data": {
      "text/plain": [
       "[['031343', 42.49756724003834, -87.77881151607451],\n",
       " ['031386', 42.488523522708775, -88.4541996832096],\n",
       " ['031430', 42.4794798053792, -87.91137441508671],\n",
       " ['031517', 42.46139237072006, -88.04385700274773],\n",
       " ['031561', 42.45234865339049, -87.50132346466455],\n",
       " ['031604', 42.44330493606092, -88.1762593871764],\n",
       " ['031648', 42.43426121873135, -87.63386150607712],\n",
       " ['031691', 42.425217501401775, -88.30858167633446],\n",
       " ['031735', 42.41617378407221, -87.7663193441127],\n",
       " ['031778', 42.40713006674263, -88.44082397802667],\n",
       " ['031822', 42.39808634941306, -87.89869708667294],\n",
       " ['031909', 42.37999891475392, -88.0309948415028],\n",
       " ['031996', 42.361911480094776, -88.16321271619083],\n",
       " ['032040', 42.35286776276521, -87.62151143011098],\n",
       " ['032083', 42.34382404543564, -88.29535081816952],\n",
       " ['032127', 42.33478032810606, -87.75378451508581],\n",
       " ['032170', 42.325736610776495, -88.42740925471557],\n",
       " ['032214', 42.31669289344692, -87.88597782713967],\n",
       " ['032301', 42.298605458787776, -88.01809147348979],\n",
       " ['032388', 42.28051802412864, -88.15012556119811],\n",
       " ['032432', 42.271474306799064, -87.60911796575786],\n",
       " ['032475', 42.262430589469496, -88.28208019717161],\n",
       " ['032519', 42.25338687213993, -87.74120702157629],\n",
       " ['032562', 42.24434315481035, -88.41395548816251],\n",
       " ['032606', 42.23529943748078, -87.87321662544136],\n",
       " ['032693', 42.21721200282164, -88.00514688404624],\n",
       " ['032780', 42.199124568162496, -88.13699790392997],\n",
       " ['032824', 42.19008085083293, -87.59668110875762],\n",
       " ['032867', 42.18103713350335, -88.26876979147755],\n",
       " ['032911', 42.171993416173784, -87.72858685571009],\n",
       " ['032954', 42.162949698844216, -88.40046265292045],\n",
       " ['032998', 42.15390598151464, -87.86041347010105],\n",
       " ['033085', 42.135818546855496, -87.99216105810328],\n",
       " ['033172', 42.11773111219635, -88.12382972573646],\n",
       " ['033216', 42.108687394866784, -87.5842008543708],\n",
       " ['033259', 42.099643677537216, -88.25541957886733],\n",
       " ['033303', 42.09059996020764, -87.71592400915878],\n",
       " ['033346', 42.08155624287807, -88.38693072321017],\n",
       " ['033390', 42.072512525548504, -87.84756834921224],\n",
       " ['033477', 42.05442509088936, -87.97913398018719],\n",
       " ['033564', 42.03633765623022, -88.11062100758751],\n",
       " ['033608', 42.02729393890064, -87.571677197381],\n",
       " ['033651', 42.01825022157107, -88.24202953676534],\n",
       " ['033695', 42.009206504241504, -87.70321847314165],\n",
       " ['033738', 42.00016278691193, -88.37335967292127],\n",
       " ['033782', 41.99111906958236, -87.83468125044075],\n",
       " ['033869', 41.97303163492322, -87.96606563442108],\n",
       " ['033956', 41.95494420026407, -88.09737173007437],\n",
       " ['034000', 41.945900482934505, -87.55911013209703],\n",
       " ['034043', 41.93685676560494, -88.22859964224159],\n",
       " ['034087', 41.92781304827536, -87.69047023842776],\n",
       " ['034130', 41.91876933094579, -88.3597494756133],\n",
       " ['034174', 41.90972561361622, -87.82175216102661],\n",
       " ['034217', 41.90068189628665, -88.49082133472979],\n",
       " ['034261', 41.89163817895708, -87.95295600452667],\n",
       " ['034348', 41.87355074429794, -88.08408187341104],\n",
       " ['034392', 41.86450702696836, -87.54649965235521],\n",
       " ['034435', 41.85546330963879, -88.21512987201308],\n",
       " ['034479', 41.846419592309225, -87.67767929533798],\n",
       " ['034522', 41.83737587497965, -88.34610010451675],\n",
       " ['034566', 41.82833215765008, -87.80878106778586],\n",
       " ['034609', 41.819288440320506, -88.4769926749569],\n",
       " ['034653', 41.81024472299094, -87.93980507382577],\n",
       " ['034740', 41.79215728833179, -88.07075141743564],\n",
       " ['034784', 41.783113571002225, -87.5338457515217],\n",
       " ['034827', 41.77406985367265, -88.20162020244481],\n",
       " ['034871', 41.76502613634308, -87.66484563374706],\n",
       " ['034914', 41.75598241901351, -88.33241153253411],\n",
       " ['034958', 41.74693870168394, -87.7957679571124],\n",
       " ['035001', 41.73789498435437, -88.46312551123634],\n",
       " ['035045', 41.728851267024794, -87.92661282524196],\n",
       " ['035132', 41.71076383236566, -88.057380341612],\n",
       " ['035176', 41.70172011503608, -87.52114842249449],\n",
       " ['035219', 41.692676397706514, -88.1880706095512],\n",
       " ['035263', 41.683632680376945, -87.65196924308555],\n",
       " ['035306', 41.67458896304737, -88.31868373224081],\n",
       " ['035350', 41.6655452457178, -87.78271281497976],\n",
       " ['035393', 41.656501528388226, -88.44921981271504],\n",
       " ['035437', 41.64745781105866, -87.91337924130215],\n",
       " ['035524', 41.629370376399514, -88.04396862503077],\n",
       " ['035568', 41.620326659069946, -87.5084076577057],\n",
       " ['035611', 41.61128294174037, -88.17448106899712],\n",
       " ['035655', 41.6022392244108, -87.63905011234175],\n",
       " ['035698', 41.593195507081234, -88.30491667588626],\n",
       " ['035742', 41.58415178975166, -87.76961562694282],\n",
       " ['035785', 41.57510807242209, -88.43527554823719],\n",
       " ['035829', 41.566064355092514, -87.90010430413815],\n",
       " ['035916', 41.54797692043337, -88.03051624641104],\n",
       " ['036003', 41.529889485774234, -88.16085155609912],\n",
       " ['036047', 41.52084576844466, -87.62608823006374],\n",
       " ['036090', 41.51180205111509, -88.29111033539473],\n",
       " ['036134', 41.50275833378552, -87.75647637813964]]"
      ]
     },
     "execution_count": 77,
     "metadata": {},
     "output_type": "execute_result"
    }
   ],
   "source": [
    "points"
   ]
  },
  {
   "cell_type": "code",
   "execution_count": 78,
   "id": "3446f93a-c9ab-4aef-b6c8-03d7af70e308",
   "metadata": {},
   "outputs": [],
   "source": [
    "def shortestDistance(lat, lon):\n",
    "    points = findPoints(lat, lon)\n",
    "            \n",
    "    distants = []\n",
    "    p1 = []\n",
    "    p1.append(lat)\n",
    "    p1.append(lon)\n",
    "    for point in points:\n",
    "        p_id = point[0]\n",
    "        p_lat = point[1]\n",
    "        p_lon = point[2]\n",
    "        p2 = []\n",
    "        p2.append(p_lat)\n",
    "        p2.append(p_lon)\n",
    "        distant = dist(p1, p2)\n",
    "        dist_id = []\n",
    "        dist_id.append(p_id)\n",
    "        dist_id.append(distant)\n",
    "        distants.append(dist_id)\n",
    "    distantList = []    \n",
    "    for ele in distants:\n",
    "        distantList.append(ele[1])\n",
    "    for item in distants:\n",
    "        if item[1] == min(distantList):\n",
    "            return item[0]"
   ]
  },
  {
   "cell_type": "code",
   "execution_count": 79,
   "id": "ab765ad0-7034-4236-961f-6d10154124a4",
   "metadata": {},
   "outputs": [
    {
     "data": {
      "text/plain": [
       "'077118'"
      ]
     },
     "execution_count": 79,
     "metadata": {},
     "output_type": "execute_result"
    }
   ],
   "source": [
    "result1 = shortestDistance(33,-88)\n",
    "result1"
   ]
  },
  {
   "cell_type": "code",
   "execution_count": 80,
   "id": "481cea0e-2459-40b1-9242-9ab948d83ce2",
   "metadata": {},
   "outputs": [
    {
     "data": {
      "text/plain": [
       "'031872'"
      ]
     },
     "execution_count": 80,
     "metadata": {},
     "output_type": "execute_result"
    }
   ],
   "source": [
    "result2 = shortestDistance(42.377547,-80.035737)\n",
    "result2"
   ]
  },
  {
   "cell_type": "code",
   "execution_count": 81,
   "id": "43a104da-76e2-491f-8d87-6243817ef7cc",
   "metadata": {},
   "outputs": [
    {
     "data": {
      "text/plain": [
       "['000000', 49.0, -125.0]"
      ]
     },
     "execution_count": 81,
     "metadata": {},
     "output_type": "execute_result"
    }
   ],
   "source": [
    "pointList[0]"
   ]
  },
  {
   "cell_type": "code",
   "execution_count": 96,
   "id": "601d35a2-7d77-4075-9dfd-6240862e89d3",
   "metadata": {},
   "outputs": [],
   "source": [
    "census['NearestPoint'] = census.apply(lambda x: shortestDistance(x['lat'], x['lon']), axis =1)"
   ]
  },
  {
   "cell_type": "code",
   "execution_count": 97,
   "id": "44e5c171-abcf-4f22-ab23-2a0ae4e50296",
   "metadata": {},
   "outputs": [
    {
     "data": {
      "text/html": [
       "<div>\n",
       "<style scoped>\n",
       "    .dataframe tbody tr th:only-of-type {\n",
       "        vertical-align: middle;\n",
       "    }\n",
       "\n",
       "    .dataframe tbody tr th {\n",
       "        vertical-align: top;\n",
       "    }\n",
       "\n",
       "    .dataframe thead th {\n",
       "        text-align: right;\n",
       "    }\n",
       "</style>\n",
       "<table border=\"1\" class=\"dataframe\">\n",
       "  <thead>\n",
       "    <tr style=\"text-align: right;\">\n",
       "      <th></th>\n",
       "      <th>STATEFP</th>\n",
       "      <th>COUNTYFP</th>\n",
       "      <th>TRACTCE</th>\n",
       "      <th>AFFGEOID</th>\n",
       "      <th>GEOID</th>\n",
       "      <th>NAME</th>\n",
       "      <th>NAMELSAD</th>\n",
       "      <th>STUSPS</th>\n",
       "      <th>NAMELSADCO</th>\n",
       "      <th>STATE_NAME</th>\n",
       "      <th>LSAD</th>\n",
       "      <th>ALAND</th>\n",
       "      <th>AWATER</th>\n",
       "      <th>geometry</th>\n",
       "      <th>CENSUS_FIPS</th>\n",
       "      <th>Centroid</th>\n",
       "      <th>lat</th>\n",
       "      <th>lon</th>\n",
       "      <th>NearestPoint</th>\n",
       "    </tr>\n",
       "  </thead>\n",
       "  <tbody>\n",
       "    <tr>\n",
       "      <th>0</th>\n",
       "      <td>13</td>\n",
       "      <td>163</td>\n",
       "      <td>960300</td>\n",
       "      <td>1400000US13163960300</td>\n",
       "      <td>13163960300</td>\n",
       "      <td>9603</td>\n",
       "      <td>Census Tract 9603</td>\n",
       "      <td>GA</td>\n",
       "      <td>Jefferson County</td>\n",
       "      <td>Georgia</td>\n",
       "      <td>CT</td>\n",
       "      <td>564728206</td>\n",
       "      <td>4845400</td>\n",
       "      <td>POLYGON ((-82.661917 33.126331, -82.651937 33....</td>\n",
       "      <td>13163960300</td>\n",
       "      <td>POINT (-82.42777455266631 33.02009497835021)</td>\n",
       "      <td>33.020095</td>\n",
       "      <td>-82.427775</td>\n",
       "      <td>076949</td>\n",
       "    </tr>\n",
       "    <tr>\n",
       "      <th>1</th>\n",
       "      <td>37</td>\n",
       "      <td>109</td>\n",
       "      <td>071201</td>\n",
       "      <td>1400000US37109071201</td>\n",
       "      <td>37109071201</td>\n",
       "      <td>712.01</td>\n",
       "      <td>Census Tract 712.01</td>\n",
       "      <td>NC</td>\n",
       "      <td>Lincoln County</td>\n",
       "      <td>North Carolina</td>\n",
       "      <td>CT</td>\n",
       "      <td>5976613</td>\n",
       "      <td>6611763</td>\n",
       "      <td>POLYGON ((-80.993444 35.478784, -80.9914239999...</td>\n",
       "      <td>37109071201</td>\n",
       "      <td>POINT (-80.9680558426884 35.45990205837115)</td>\n",
       "      <td>35.459902</td>\n",
       "      <td>-80.968056</td>\n",
       "      <td>065452</td>\n",
       "    </tr>\n",
       "    <tr>\n",
       "      <th>2</th>\n",
       "      <td>25</td>\n",
       "      <td>025</td>\n",
       "      <td>050200</td>\n",
       "      <td>1400000US25025050200</td>\n",
       "      <td>25025050200</td>\n",
       "      <td>502</td>\n",
       "      <td>Census Tract 502</td>\n",
       "      <td>MA</td>\n",
       "      <td>Suffolk County</td>\n",
       "      <td>Massachusetts</td>\n",
       "      <td>CT</td>\n",
       "      <td>243271</td>\n",
       "      <td>0</td>\n",
       "      <td>POLYGON ((-71.040029 42.37865, -71.03921099999...</td>\n",
       "      <td>25025050200</td>\n",
       "      <td>POINT (-71.03573713399868 42.37754679162973)</td>\n",
       "      <td>42.377547</td>\n",
       "      <td>-71.035737</td>\n",
       "      <td>None</td>\n",
       "    </tr>\n",
       "    <tr>\n",
       "      <th>3</th>\n",
       "      <td>17</td>\n",
       "      <td>031</td>\n",
       "      <td>230200</td>\n",
       "      <td>1400000US17031230200</td>\n",
       "      <td>17031230200</td>\n",
       "      <td>2302</td>\n",
       "      <td>Census Tract 2302</td>\n",
       "      <td>IL</td>\n",
       "      <td>Cook County</td>\n",
       "      <td>Illinois</td>\n",
       "      <td>CT</td>\n",
       "      <td>214283</td>\n",
       "      <td>0</td>\n",
       "      <td>POLYGON ((-87.71341700000001 41.913589, -87.71...</td>\n",
       "      <td>17031230200</td>\n",
       "      <td>POINT (-87.71008151357118 41.91187356531011)</td>\n",
       "      <td>41.911874</td>\n",
       "      <td>-87.710082</td>\n",
       "      <td>034087</td>\n",
       "    </tr>\n",
       "    <tr>\n",
       "      <th>4</th>\n",
       "      <td>41</td>\n",
       "      <td>047</td>\n",
       "      <td>001607</td>\n",
       "      <td>1400000US41047001607</td>\n",
       "      <td>41047001607</td>\n",
       "      <td>16.07</td>\n",
       "      <td>Census Tract 16.07</td>\n",
       "      <td>OR</td>\n",
       "      <td>Marion County</td>\n",
       "      <td>Oregon</td>\n",
       "      <td>CT</td>\n",
       "      <td>1814790</td>\n",
       "      <td>0</td>\n",
       "      <td>POLYGON ((-122.990318 44.968214, -122.987853 4...</td>\n",
       "      <td>41047001607</td>\n",
       "      <td>POINT (-122.9834298654585 44.96158272247879)</td>\n",
       "      <td>44.961583</td>\n",
       "      <td>-122.983430</td>\n",
       "      <td>019512</td>\n",
       "    </tr>\n",
       "  </tbody>\n",
       "</table>\n",
       "</div>"
      ],
      "text/plain": [
       "  STATEFP COUNTYFP TRACTCE              AFFGEOID        GEOID    NAME  \\\n",
       "0      13      163  960300  1400000US13163960300  13163960300    9603   \n",
       "1      37      109  071201  1400000US37109071201  37109071201  712.01   \n",
       "2      25      025  050200  1400000US25025050200  25025050200     502   \n",
       "3      17      031  230200  1400000US17031230200  17031230200    2302   \n",
       "4      41      047  001607  1400000US41047001607  41047001607   16.07   \n",
       "\n",
       "              NAMELSAD STUSPS        NAMELSADCO      STATE_NAME LSAD  \\\n",
       "0    Census Tract 9603     GA  Jefferson County         Georgia   CT   \n",
       "1  Census Tract 712.01     NC    Lincoln County  North Carolina   CT   \n",
       "2     Census Tract 502     MA    Suffolk County   Massachusetts   CT   \n",
       "3    Census Tract 2302     IL       Cook County        Illinois   CT   \n",
       "4   Census Tract 16.07     OR     Marion County          Oregon   CT   \n",
       "\n",
       "       ALAND   AWATER                                           geometry  \\\n",
       "0  564728206  4845400  POLYGON ((-82.661917 33.126331, -82.651937 33....   \n",
       "1    5976613  6611763  POLYGON ((-80.993444 35.478784, -80.9914239999...   \n",
       "2     243271        0  POLYGON ((-71.040029 42.37865, -71.03921099999...   \n",
       "3     214283        0  POLYGON ((-87.71341700000001 41.913589, -87.71...   \n",
       "4    1814790        0  POLYGON ((-122.990318 44.968214, -122.987853 4...   \n",
       "\n",
       "   CENSUS_FIPS                                      Centroid        lat  \\\n",
       "0  13163960300  POINT (-82.42777455266631 33.02009497835021)  33.020095   \n",
       "1  37109071201   POINT (-80.9680558426884 35.45990205837115)  35.459902   \n",
       "2  25025050200  POINT (-71.03573713399868 42.37754679162973)  42.377547   \n",
       "3  17031230200  POINT (-87.71008151357118 41.91187356531011)  41.911874   \n",
       "4  41047001607  POINT (-122.9834298654585 44.96158272247879)  44.961583   \n",
       "\n",
       "          lon NearestPoint  \n",
       "0  -82.427775       076949  \n",
       "1  -80.968056       065452  \n",
       "2  -71.035737         None  \n",
       "3  -87.710082       034087  \n",
       "4 -122.983430       019512  "
      ]
     },
     "execution_count": 97,
     "metadata": {},
     "output_type": "execute_result"
    }
   ],
   "source": [
    "census.head()"
   ]
  },
  {
   "cell_type": "code",
   "execution_count": 98,
   "id": "d5c18da4-4d0b-466a-8c5c-ebe38b346171",
   "metadata": {},
   "outputs": [],
   "source": [
    "census = census.rename(columns = {'NearestPoint': 'ID'})"
   ]
  },
  {
   "cell_type": "code",
   "execution_count": 99,
   "id": "fa8e7e5f-3be9-4149-a4ea-ae4575417b92",
   "metadata": {},
   "outputs": [],
   "source": [
    "census = census.merge(pm_16[['ID', 'PM2.5']], on = 'ID', how = 'left')"
   ]
  },
  {
   "cell_type": "code",
   "execution_count": 100,
   "id": "32e97c59-8dcd-45b3-ae03-c53f9796af40",
   "metadata": {},
   "outputs": [
    {
     "data": {
      "text/html": [
       "<div>\n",
       "<style scoped>\n",
       "    .dataframe tbody tr th:only-of-type {\n",
       "        vertical-align: middle;\n",
       "    }\n",
       "\n",
       "    .dataframe tbody tr th {\n",
       "        vertical-align: top;\n",
       "    }\n",
       "\n",
       "    .dataframe thead th {\n",
       "        text-align: right;\n",
       "    }\n",
       "</style>\n",
       "<table border=\"1\" class=\"dataframe\">\n",
       "  <thead>\n",
       "    <tr style=\"text-align: right;\">\n",
       "      <th></th>\n",
       "      <th>STATEFP</th>\n",
       "      <th>COUNTYFP</th>\n",
       "      <th>TRACTCE</th>\n",
       "      <th>AFFGEOID</th>\n",
       "      <th>GEOID</th>\n",
       "      <th>NAME</th>\n",
       "      <th>NAMELSAD</th>\n",
       "      <th>STUSPS</th>\n",
       "      <th>NAMELSADCO</th>\n",
       "      <th>STATE_NAME</th>\n",
       "      <th>LSAD</th>\n",
       "      <th>ALAND</th>\n",
       "      <th>AWATER</th>\n",
       "      <th>geometry</th>\n",
       "      <th>CENSUS_FIPS</th>\n",
       "      <th>Centroid</th>\n",
       "      <th>lat</th>\n",
       "      <th>lon</th>\n",
       "      <th>ID</th>\n",
       "      <th>PM2.5</th>\n",
       "    </tr>\n",
       "  </thead>\n",
       "  <tbody>\n",
       "    <tr>\n",
       "      <th>0</th>\n",
       "      <td>13</td>\n",
       "      <td>163</td>\n",
       "      <td>960300</td>\n",
       "      <td>1400000US13163960300</td>\n",
       "      <td>13163960300</td>\n",
       "      <td>9603</td>\n",
       "      <td>Census Tract 9603</td>\n",
       "      <td>GA</td>\n",
       "      <td>Jefferson County</td>\n",
       "      <td>Georgia</td>\n",
       "      <td>CT</td>\n",
       "      <td>564728206</td>\n",
       "      <td>4845400</td>\n",
       "      <td>POLYGON ((-82.661917 33.126331, -82.651937 33....</td>\n",
       "      <td>13163960300</td>\n",
       "      <td>POINT (-82.42777455266631 33.02009497835021)</td>\n",
       "      <td>33.020095</td>\n",
       "      <td>-82.427775</td>\n",
       "      <td>076949</td>\n",
       "      <td>-3.400000e+38</td>\n",
       "    </tr>\n",
       "    <tr>\n",
       "      <th>1</th>\n",
       "      <td>37</td>\n",
       "      <td>109</td>\n",
       "      <td>071201</td>\n",
       "      <td>1400000US37109071201</td>\n",
       "      <td>37109071201</td>\n",
       "      <td>712.01</td>\n",
       "      <td>Census Tract 712.01</td>\n",
       "      <td>NC</td>\n",
       "      <td>Lincoln County</td>\n",
       "      <td>North Carolina</td>\n",
       "      <td>CT</td>\n",
       "      <td>5976613</td>\n",
       "      <td>6611763</td>\n",
       "      <td>POLYGON ((-80.993444 35.478784, -80.9914239999...</td>\n",
       "      <td>37109071201</td>\n",
       "      <td>POINT (-80.9680558426884 35.45990205837115)</td>\n",
       "      <td>35.459902</td>\n",
       "      <td>-80.968056</td>\n",
       "      <td>065452</td>\n",
       "      <td>-3.400000e+38</td>\n",
       "    </tr>\n",
       "    <tr>\n",
       "      <th>2</th>\n",
       "      <td>25</td>\n",
       "      <td>025</td>\n",
       "      <td>050200</td>\n",
       "      <td>1400000US25025050200</td>\n",
       "      <td>25025050200</td>\n",
       "      <td>502</td>\n",
       "      <td>Census Tract 502</td>\n",
       "      <td>MA</td>\n",
       "      <td>Suffolk County</td>\n",
       "      <td>Massachusetts</td>\n",
       "      <td>CT</td>\n",
       "      <td>243271</td>\n",
       "      <td>0</td>\n",
       "      <td>POLYGON ((-71.040029 42.37865, -71.03921099999...</td>\n",
       "      <td>25025050200</td>\n",
       "      <td>POINT (-71.03573713399868 42.37754679162973)</td>\n",
       "      <td>42.377547</td>\n",
       "      <td>-71.035737</td>\n",
       "      <td>None</td>\n",
       "      <td>NaN</td>\n",
       "    </tr>\n",
       "    <tr>\n",
       "      <th>3</th>\n",
       "      <td>17</td>\n",
       "      <td>031</td>\n",
       "      <td>230200</td>\n",
       "      <td>1400000US17031230200</td>\n",
       "      <td>17031230200</td>\n",
       "      <td>2302</td>\n",
       "      <td>Census Tract 2302</td>\n",
       "      <td>IL</td>\n",
       "      <td>Cook County</td>\n",
       "      <td>Illinois</td>\n",
       "      <td>CT</td>\n",
       "      <td>214283</td>\n",
       "      <td>0</td>\n",
       "      <td>POLYGON ((-87.71341700000001 41.913589, -87.71...</td>\n",
       "      <td>17031230200</td>\n",
       "      <td>POINT (-87.71008151357118 41.91187356531011)</td>\n",
       "      <td>41.911874</td>\n",
       "      <td>-87.710082</td>\n",
       "      <td>034087</td>\n",
       "      <td>5.922972e+00</td>\n",
       "    </tr>\n",
       "    <tr>\n",
       "      <th>4</th>\n",
       "      <td>41</td>\n",
       "      <td>047</td>\n",
       "      <td>001607</td>\n",
       "      <td>1400000US41047001607</td>\n",
       "      <td>41047001607</td>\n",
       "      <td>16.07</td>\n",
       "      <td>Census Tract 16.07</td>\n",
       "      <td>OR</td>\n",
       "      <td>Marion County</td>\n",
       "      <td>Oregon</td>\n",
       "      <td>CT</td>\n",
       "      <td>1814790</td>\n",
       "      <td>0</td>\n",
       "      <td>POLYGON ((-122.990318 44.968214, -122.987853 4...</td>\n",
       "      <td>41047001607</td>\n",
       "      <td>POINT (-122.9834298654585 44.96158272247879)</td>\n",
       "      <td>44.961583</td>\n",
       "      <td>-122.983430</td>\n",
       "      <td>019512</td>\n",
       "      <td>-3.400000e+38</td>\n",
       "    </tr>\n",
       "  </tbody>\n",
       "</table>\n",
       "</div>"
      ],
      "text/plain": [
       "  STATEFP COUNTYFP TRACTCE              AFFGEOID        GEOID    NAME  \\\n",
       "0      13      163  960300  1400000US13163960300  13163960300    9603   \n",
       "1      37      109  071201  1400000US37109071201  37109071201  712.01   \n",
       "2      25      025  050200  1400000US25025050200  25025050200     502   \n",
       "3      17      031  230200  1400000US17031230200  17031230200    2302   \n",
       "4      41      047  001607  1400000US41047001607  41047001607   16.07   \n",
       "\n",
       "              NAMELSAD STUSPS        NAMELSADCO      STATE_NAME LSAD  \\\n",
       "0    Census Tract 9603     GA  Jefferson County         Georgia   CT   \n",
       "1  Census Tract 712.01     NC    Lincoln County  North Carolina   CT   \n",
       "2     Census Tract 502     MA    Suffolk County   Massachusetts   CT   \n",
       "3    Census Tract 2302     IL       Cook County        Illinois   CT   \n",
       "4   Census Tract 16.07     OR     Marion County          Oregon   CT   \n",
       "\n",
       "       ALAND   AWATER                                           geometry  \\\n",
       "0  564728206  4845400  POLYGON ((-82.661917 33.126331, -82.651937 33....   \n",
       "1    5976613  6611763  POLYGON ((-80.993444 35.478784, -80.9914239999...   \n",
       "2     243271        0  POLYGON ((-71.040029 42.37865, -71.03921099999...   \n",
       "3     214283        0  POLYGON ((-87.71341700000001 41.913589, -87.71...   \n",
       "4    1814790        0  POLYGON ((-122.990318 44.968214, -122.987853 4...   \n",
       "\n",
       "   CENSUS_FIPS                                      Centroid        lat  \\\n",
       "0  13163960300  POINT (-82.42777455266631 33.02009497835021)  33.020095   \n",
       "1  37109071201   POINT (-80.9680558426884 35.45990205837115)  35.459902   \n",
       "2  25025050200  POINT (-71.03573713399868 42.37754679162973)  42.377547   \n",
       "3  17031230200  POINT (-87.71008151357118 41.91187356531011)  41.911874   \n",
       "4  41047001607  POINT (-122.9834298654585 44.96158272247879)  44.961583   \n",
       "\n",
       "          lon      ID         PM2.5  \n",
       "0  -82.427775  076949 -3.400000e+38  \n",
       "1  -80.968056  065452 -3.400000e+38  \n",
       "2  -71.035737    None           NaN  \n",
       "3  -87.710082  034087  5.922972e+00  \n",
       "4 -122.983430  019512 -3.400000e+38  "
      ]
     },
     "execution_count": 100,
     "metadata": {},
     "output_type": "execute_result"
    }
   ],
   "source": [
    "census.head()"
   ]
  },
  {
   "cell_type": "code",
   "execution_count": 101,
   "id": "dbec23b0-cb0b-4b1b-8fac-7a3e7b8d2360",
   "metadata": {},
   "outputs": [
    {
     "data": {
      "text/plain": [
       "4622"
      ]
     },
     "execution_count": 101,
     "metadata": {},
     "output_type": "execute_result"
    }
   ],
   "source": [
    "census['PM2.5'].isna().sum()"
   ]
  },
  {
   "cell_type": "code",
   "execution_count": 102,
   "id": "5985f52b-2dbf-49f9-a4fd-bbf087a6acdb",
   "metadata": {},
   "outputs": [
    {
     "data": {
      "text/plain": [
       "(85230, 20)"
      ]
     },
     "execution_count": 102,
     "metadata": {},
     "output_type": "execute_result"
    }
   ],
   "source": [
    "census.shape"
   ]
  },
  {
   "cell_type": "code",
   "execution_count": 104,
   "id": "e9c09e07-a176-4d28-8523-51fedcc1c8fe",
   "metadata": {},
   "outputs": [
    {
     "data": {
      "text/plain": [
       "80608"
      ]
     },
     "execution_count": 104,
     "metadata": {},
     "output_type": "execute_result"
    }
   ],
   "source": [
    "valid = 85230-4622\n",
    "valid"
   ]
  },
  {
   "cell_type": "markdown",
   "id": "5b7a69cd-cf07-43ab-afa6-194c0c4e2f2f",
   "metadata": {},
   "source": [
    "### So there are 80608 census tracts that have PM2.5 data in 2016"
   ]
  },
  {
   "cell_type": "code",
   "execution_count": 105,
   "id": "953fa380-50d6-4f87-92fd-4e3116cf260e",
   "metadata": {},
   "outputs": [
    {
     "data": {
      "text/html": [
       "<div>\n",
       "<style scoped>\n",
       "    .dataframe tbody tr th:only-of-type {\n",
       "        vertical-align: middle;\n",
       "    }\n",
       "\n",
       "    .dataframe tbody tr th {\n",
       "        vertical-align: top;\n",
       "    }\n",
       "\n",
       "    .dataframe thead th {\n",
       "        text-align: right;\n",
       "    }\n",
       "</style>\n",
       "<table border=\"1\" class=\"dataframe\">\n",
       "  <thead>\n",
       "    <tr style=\"text-align: right;\">\n",
       "      <th></th>\n",
       "      <th>index</th>\n",
       "      <th>row</th>\n",
       "      <th>col</th>\n",
       "      <th>PM2.5</th>\n",
       "      <th>x</th>\n",
       "      <th>y</th>\n",
       "    </tr>\n",
       "  </thead>\n",
       "  <tbody>\n",
       "    <tr>\n",
       "      <th>count</th>\n",
       "      <td>1.259040e+05</td>\n",
       "      <td>125904.00000</td>\n",
       "      <td>125904.000000</td>\n",
       "      <td>1.259040e+05</td>\n",
       "      <td>125904.000000</td>\n",
       "      <td>125904.00000</td>\n",
       "    </tr>\n",
       "    <tr>\n",
       "      <th>mean</th>\n",
       "      <td>6.295150e+06</td>\n",
       "      <td>1445.00000</td>\n",
       "      <td>2175.000000</td>\n",
       "      <td>-inf</td>\n",
       "      <td>2175.000000</td>\n",
       "      <td>1445.00000</td>\n",
       "    </tr>\n",
       "    <tr>\n",
       "      <th>std</th>\n",
       "      <td>3.634550e+06</td>\n",
       "      <td>834.56938</td>\n",
       "      <td>1257.193885</td>\n",
       "      <td>inf</td>\n",
       "      <td>1257.193885</td>\n",
       "      <td>834.56938</td>\n",
       "    </tr>\n",
       "    <tr>\n",
       "      <th>min</th>\n",
       "      <td>0.000000e+00</td>\n",
       "      <td>0.00000</td>\n",
       "      <td>0.000000</td>\n",
       "      <td>-3.400000e+38</td>\n",
       "      <td>0.000000</td>\n",
       "      <td>0.00000</td>\n",
       "    </tr>\n",
       "    <tr>\n",
       "      <th>25%</th>\n",
       "      <td>3.147575e+06</td>\n",
       "      <td>722.00000</td>\n",
       "      <td>1085.000000</td>\n",
       "      <td>-3.400000e+38</td>\n",
       "      <td>1085.000000</td>\n",
       "      <td>722.00000</td>\n",
       "    </tr>\n",
       "    <tr>\n",
       "      <th>50%</th>\n",
       "      <td>6.295150e+06</td>\n",
       "      <td>1445.00000</td>\n",
       "      <td>2175.000000</td>\n",
       "      <td>2.667460e+00</td>\n",
       "      <td>2175.000000</td>\n",
       "      <td>1445.00000</td>\n",
       "    </tr>\n",
       "    <tr>\n",
       "      <th>75%</th>\n",
       "      <td>9.442725e+06</td>\n",
       "      <td>2168.00000</td>\n",
       "      <td>3265.000000</td>\n",
       "      <td>5.856285e+00</td>\n",
       "      <td>3265.000000</td>\n",
       "      <td>2168.00000</td>\n",
       "    </tr>\n",
       "    <tr>\n",
       "      <th>max</th>\n",
       "      <td>1.259030e+07</td>\n",
       "      <td>2890.00000</td>\n",
       "      <td>4350.000000</td>\n",
       "      <td>1.984056e+01</td>\n",
       "      <td>4350.000000</td>\n",
       "      <td>2890.00000</td>\n",
       "    </tr>\n",
       "  </tbody>\n",
       "</table>\n",
       "</div>"
      ],
      "text/plain": [
       "              index           row            col         PM2.5              x  \\\n",
       "count  1.259040e+05  125904.00000  125904.000000  1.259040e+05  125904.000000   \n",
       "mean   6.295150e+06    1445.00000    2175.000000          -inf    2175.000000   \n",
       "std    3.634550e+06     834.56938    1257.193885           inf    1257.193885   \n",
       "min    0.000000e+00       0.00000       0.000000 -3.400000e+38       0.000000   \n",
       "25%    3.147575e+06     722.00000    1085.000000 -3.400000e+38    1085.000000   \n",
       "50%    6.295150e+06    1445.00000    2175.000000  2.667460e+00    2175.000000   \n",
       "75%    9.442725e+06    2168.00000    3265.000000  5.856285e+00    3265.000000   \n",
       "max    1.259030e+07    2890.00000    4350.000000  1.984056e+01    4350.000000   \n",
       "\n",
       "                  y  \n",
       "count  125904.00000  \n",
       "mean     1445.00000  \n",
       "std       834.56938  \n",
       "min         0.00000  \n",
       "25%       722.00000  \n",
       "50%      1445.00000  \n",
       "75%      2168.00000  \n",
       "max      2890.00000  "
      ]
     },
     "execution_count": 105,
     "metadata": {},
     "output_type": "execute_result"
    }
   ],
   "source": [
    "pm_16.describe()"
   ]
  },
  {
   "cell_type": "code",
   "execution_count": 106,
   "id": "cdaf0bcd-a9d2-4aae-a2a9-ce2a335ee985",
   "metadata": {},
   "outputs": [],
   "source": [
    "list1 = list(pm_16['PM2.5'].unique())"
   ]
  },
  {
   "cell_type": "code",
   "execution_count": 107,
   "id": "12198f7c-ca48-426c-8186-ca14b24235d7",
   "metadata": {},
   "outputs": [
    {
     "name": "stdout",
     "output_type": "stream",
     "text": [
      "-3.4e+38\n"
     ]
    }
   ],
   "source": [
    "for element in list1:\n",
    "    if element <= 0:\n",
    "        print(element)"
   ]
  },
  {
   "cell_type": "markdown",
   "id": "1d5d49fd-bd37-4317-9a46-9f49b85b7f08",
   "metadata": {},
   "source": [
    "### So I guess that they use this negative number to represent null value, so let clear them"
   ]
  },
  {
   "cell_type": "code",
   "execution_count": 108,
   "id": "e38a412e-89f5-4bf8-ab91-4b7ea53f92fe",
   "metadata": {},
   "outputs": [],
   "source": [
    "def clearNegative(value):\n",
    "    if value < 0:\n",
    "        return np.nan\n",
    "    else:\n",
    "        return value"
   ]
  },
  {
   "cell_type": "code",
   "execution_count": 109,
   "id": "411e3fec-cd5d-47e2-8559-89dd0a0221ae",
   "metadata": {},
   "outputs": [],
   "source": [
    "census['PM2.5'] = census['PM2.5'].apply(clearNegative)"
   ]
  },
  {
   "cell_type": "code",
   "execution_count": 110,
   "id": "072ed7a1-0c19-4bf4-a8cf-db6b41451dac",
   "metadata": {},
   "outputs": [
    {
     "data": {
      "text/plain": [
       "34727"
      ]
     },
     "execution_count": 110,
     "metadata": {},
     "output_type": "execute_result"
    }
   ],
   "source": [
    "census['PM2.5'].isna().sum()"
   ]
  },
  {
   "cell_type": "code",
   "execution_count": 111,
   "id": "d35b2e4d-f89e-4ce6-8fe0-62d46b9aea42",
   "metadata": {},
   "outputs": [],
   "source": [
    "pm_16['PM2.5'] = pm_16['PM2.5'].apply(clearNegative)"
   ]
  },
  {
   "cell_type": "code",
   "execution_count": 112,
   "id": "b812a34d-fff0-4e45-b9e4-2587627fdeb4",
   "metadata": {},
   "outputs": [
    {
     "data": {
      "text/plain": [
       "51741"
      ]
     },
     "execution_count": 112,
     "metadata": {},
     "output_type": "execute_result"
    }
   ],
   "source": [
    "pm_16['PM2.5'].isna().sum()"
   ]
  },
  {
   "cell_type": "code",
   "execution_count": 115,
   "id": "eb06bce0-e45d-4022-a858-6872160ac400",
   "metadata": {},
   "outputs": [
    {
     "data": {
      "text/plain": [
       "50503"
      ]
     },
     "execution_count": 115,
     "metadata": {},
     "output_type": "execute_result"
    }
   ],
   "source": [
    "valid = 85230 - 34727\n",
    "valid"
   ]
  },
  {
   "cell_type": "markdown",
   "id": "17c421c0-74f2-4621-adce-616983c54581",
   "metadata": {},
   "source": [
    "### After clear all the negative values, 50503 census tracts have PM2.5 data "
   ]
  },
  {
   "cell_type": "code",
   "execution_count": null,
   "id": "7dbea148-6888-4b61-932c-e02a73cabc96",
   "metadata": {},
   "outputs": [],
   "source": []
  }
 ],
 "metadata": {
  "kernelspec": {
   "display_name": "MyEnv",
   "language": "python",
   "name": "myenv"
  },
  "language_info": {
   "codemirror_mode": {
    "name": "ipython",
    "version": 3
   },
   "file_extension": ".py",
   "mimetype": "text/x-python",
   "name": "python",
   "nbconvert_exporter": "python",
   "pygments_lexer": "ipython3",
   "version": "3.7.11"
  }
 },
 "nbformat": 4,
 "nbformat_minor": 5
}
